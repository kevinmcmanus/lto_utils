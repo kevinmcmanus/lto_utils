{
  "nbformat": 4,
  "nbformat_minor": 0,
  "metadata": {
    "colab": {
      "name": "lto_data.ipynb",
      "provenance": [],
      "toc_visible": true,
      "authorship_tag": "ABX9TyN/9dW8yc4xrRSRAUR2Kkbo",
      "include_colab_link": true
    },
    "kernelspec": {
      "name": "python3",
      "display_name": "Python 3"
    }
  },
  "cells": [
    {
      "cell_type": "markdown",
      "metadata": {
        "id": "view-in-github",
        "colab_type": "text"
      },
      "source": [
        "<a href=\"https://colab.research.google.com/github/kevinmcmanus/lto_utils/blob/master/lto_data.ipynb\" target=\"_parent\"><img src=\"https://colab.research.google.com/assets/colab-badge.svg\" alt=\"Open In Colab\"/></a>"
      ]
    },
    {
      "cell_type": "markdown",
      "metadata": {
        "id": "Apn0zMs9QY2v",
        "colab_type": "text"
      },
      "source": [
        "# LTO Utilities Library"
      ]
    },
    {
      "cell_type": "markdown",
      "metadata": {
        "id": "bX344M-tQnQ4",
        "colab_type": "text"
      },
      "source": [
        "The LTO Utilities library provides a set of useful functions for dealing with files output from the Little Thompson Observatory's radio telescope. These files, suffixed with '.lto' capture spectral information and the data processing pipeline produces them at approximately one-minute intervals throughout an observation.\n",
        "\n",
        "For the purposes of this demo, a 24-hour drift scan observation is available in Google Cloud Storage.  Having the data in GCS complicates this demo somewhat in that the Google Colab virtual machine that is running this notebook needs to mount the GCS as a preliminary step.\n",
        "The actual demonstration of obtaining and using the `lto_utils` library begins in the section entitled 'Clone the lto_utils' repo."
      ]
    },
    {
      "cell_type": "markdown",
      "metadata": {
        "id": "8WapFl0zTWf-",
        "colab_type": "text"
      },
      "source": [
        "## Preliminaries"
      ]
    },
    {
      "cell_type": "markdown",
      "metadata": {
        "id": "YNxuMpwmB9ba",
        "colab_type": "text"
      },
      "source": [
        "### References on Using Cloud Storage in Colab"
      ]
    },
    {
      "cell_type": "markdown",
      "metadata": {
        "id": "K4CVm6sAuU1v",
        "colab_type": "text"
      },
      "source": [
        "These articles explain how to make Google Cloud Storage availabale within a Google Colab notebook, such as this one.\n",
        "\n",
        "(https://medium.com/analytics-vidhya/how-to-access-files-from-google-cloud-storage-in-colab-notebooks-8edaf9e6c020)\n",
        "\n",
        "(https://stackoverflow.com/questions/51715268/how-to-import-data-from-google-cloud-storage-to-google-colab)\n",
        "\n",
        "(https://ostrokach.gitlab.io/post/google-colab-storage/)"
      ]
    },
    {
      "cell_type": "markdown",
      "metadata": {
        "id": "CCYrwRu93ESO",
        "colab_type": "text"
      },
      "source": [
        "### Authenticate and Mount GCS Bucket"
      ]
    },
    {
      "cell_type": "code",
      "metadata": {
        "id": "zmj1xAxhooC_",
        "colab_type": "code",
        "colab": {}
      },
      "source": [
        "from google.colab import auth\n",
        "\n",
        "auth.authenticate_user()"
      ],
      "execution_count": 1,
      "outputs": []
    },
    {
      "cell_type": "code",
      "metadata": {
        "id": "gaybdAkUqRdK",
        "colab_type": "code",
        "colab": {
          "base_uri": "https://localhost:8080/",
          "height": 187
        },
        "outputId": "1e45c0d6-0c8c-44bf-92b7-a6a93d66b0d4"
      },
      "source": [
        "!echo \"deb http://packages.cloud.google.com/apt gcsfuse-bionic main\" > /etc/apt/sources.list.d/gcsfuse.list\n",
        "!curl https://packages.cloud.google.com/apt/doc/apt-key.gpg | apt-key add -\n",
        "!apt -qq update\n",
        "!apt -qq install gcsfuse"
      ],
      "execution_count": 2,
      "outputs": [
        {
          "output_type": "stream",
          "text": [
            "  % Total    % Received % Xferd  Average Speed   Time    Time     Time  Current\n",
            "                                 Dload  Upload   Total   Spent    Left  Speed\n",
            "\r  0     0    0     0    0     0      0      0 --:--:-- --:--:-- --:--:--     0\r100   653  100   653    0     0  19787      0 --:--:-- --:--:-- --:--:-- 19787\n",
            "OK\n",
            "110 packages can be upgraded. Run 'apt list --upgradable' to see them.\n",
            "gcsfuse is already the newest version (0.30.0).\n",
            "The following package was automatically installed and is no longer required:\n",
            "  libnvidia-common-440\n",
            "Use 'apt autoremove' to remove it.\n",
            "0 upgraded, 0 newly installed, 0 to remove and 110 not upgraded.\n"
          ],
          "name": "stdout"
        }
      ]
    },
    {
      "cell_type": "code",
      "metadata": {
        "id": "kIp99n9w16jC",
        "colab_type": "code",
        "colab": {
          "base_uri": "https://localhost:8080/",
          "height": 204
        },
        "outputId": "85d16b89-9d43-4983-aa09-7271504b5e34"
      },
      "source": [
        "#Mount the drive\n",
        "!mkdir lto_data\n",
        "!gcsfuse --implicit-dirs --limit-bytes-per-sec -1 --limit-ops-per-sec -1 lto_data lto_data"
      ],
      "execution_count": 3,
      "outputs": [
        {
          "output_type": "stream",
          "text": [
            "mkdir: cannot create directory ‘lto_data’: File exists\n",
            "Using mount point: /content/lto_data\n",
            "Opening GCS connection...\n",
            "Opening bucket...\n",
            "Mounting file system...\n",
            "daemonize.Run: readFromProcess: sub-process: mountWithArgs: mountWithConn: Mount: mount: running fusermount: exit status 1\n",
            "\n",
            "stderr:\n",
            "fusermount: mountpoint is not empty\n",
            "fusermount: if you are sure this is safe, use the 'nonempty' mount option\n",
            "\n"
          ],
          "name": "stdout"
        }
      ]
    },
    {
      "cell_type": "markdown",
      "metadata": {
        "id": "uSS5amXO3kSA",
        "colab_type": "text"
      },
      "source": [
        "## Clone the lto_utils Repo"
      ]
    },
    {
      "cell_type": "code",
      "metadata": {
        "id": "uDtC6puZv7KZ",
        "colab_type": "code",
        "colab": {
          "base_uri": "https://localhost:8080/",
          "height": 34
        },
        "outputId": "c31637a1-f5b3-47ec-9e8e-a62aebb74012"
      },
      "source": [
        "!git clone https://github.com/kevinmcmanus/lto_utils"
      ],
      "execution_count": 4,
      "outputs": [
        {
          "output_type": "stream",
          "text": [
            "fatal: destination path 'lto_utils' already exists and is not an empty directory.\n"
          ],
          "name": "stdout"
        }
      ]
    },
    {
      "cell_type": "code",
      "metadata": {
        "id": "nsSP0NYwwKwh",
        "colab_type": "code",
        "colab": {}
      },
      "source": [
        "import sys\n",
        "sys.path.append('lto_utils')"
      ],
      "execution_count": 5,
      "outputs": []
    },
    {
      "cell_type": "code",
      "metadata": {
        "id": "j_8kTKpxwjtJ",
        "colab_type": "code",
        "colab": {}
      },
      "source": [
        "import lto_utils.lto_file as lto"
      ],
      "execution_count": 6,
      "outputs": []
    },
    {
      "cell_type": "code",
      "metadata": {
        "id": "e5axO4LHXGKX",
        "colab_type": "code",
        "colab": {}
      },
      "source": [
        "import numpy as np\n",
        "import pandas as pd\n",
        "import matplotlib.pyplot as plt\n",
        "%matplotlib inline"
      ],
      "execution_count": 7,
      "outputs": []
    },
    {
      "cell_type": "markdown",
      "metadata": {
        "id": "ILwzuvxr33Du",
        "colab_type": "text"
      },
      "source": [
        "## Read Single LTO File and Examine its Contents"
      ]
    },
    {
      "cell_type": "code",
      "metadata": {
        "id": "Pt8V5ZXxyROo",
        "colab_type": "code",
        "colab": {}
      },
      "source": [
        "#create an LTO_File object\n",
        "lto_file = lto.LTO_File()\n",
        "\n",
        "#set the path to the object\n",
        "path = 'lto_data/2018_09_02/LTO-HI-2018-09-02-17-41-53.lto'\n",
        "lto_file.set_path(path)"
      ],
      "execution_count": 8,
      "outputs": []
    },
    {
      "cell_type": "code",
      "metadata": {
        "id": "Q5VHKLLXzKiN",
        "colab_type": "code",
        "colab": {}
      },
      "source": [
        "# this is what actually loads the file\n",
        "lto_file.get_SpectralLine()"
      ],
      "execution_count": 9,
      "outputs": []
    },
    {
      "cell_type": "markdown",
      "metadata": {
        "id": "b9jb-__ZUvEc",
        "colab_type": "text"
      },
      "source": [
        "`lto_file` object contains two attributes: `SpectralHeader` and `SpectralData`. Both are large data structures. The `SpectralHeader` has several subsections which are:"
      ]
    },
    {
      "cell_type": "code",
      "metadata": {
        "id": "MprZi3yXU5MX",
        "colab_type": "code",
        "colab": {
          "base_uri": "https://localhost:8080/",
          "height": 34
        },
        "outputId": "d2da5197-aa73-46bb-e392-38e6f1740222"
      },
      "source": [
        "lto_file.SpectralHeader.keys()"
      ],
      "execution_count": 10,
      "outputs": [
        {
          "output_type": "execute_result",
          "data": {
            "text/plain": [
              "dict_keys(['Magic', 'Observatory', 'ObsLocation', 'BeamPosition', 'ObsTime', 'Spectrum', 'RadioCalibrations', 'ProgramControl', 'SpectralCharacteristics'])"
            ]
          },
          "metadata": {
            "tags": []
          },
          "execution_count": 10
        }
      ]
    },
    {
      "cell_type": "markdown",
      "metadata": {
        "id": "NvVLpWOi4Y6y",
        "colab_type": "text"
      },
      "source": [
        " \n",
        "The subsection `SpectralCharacteristics`  contains summary information of the file. \n",
        " This subsection is particularly useful."
      ]
    },
    {
      "cell_type": "code",
      "metadata": {
        "id": "mjADjPid4KyQ",
        "colab_type": "code",
        "colab": {
          "base_uri": "https://localhost:8080/",
          "height": 459
        },
        "outputId": "eb6f7a47-64dd-4c55-c21b-84cd6d775837"
      },
      "source": [
        "lto_file.SpectralHeader['SpectralCharacteristics']"
      ],
      "execution_count": 11,
      "outputs": [
        {
          "output_type": "execute_result",
          "data": {
            "text/plain": [
              "{'avecrpwr': 1.5366042412277951e-21,\n",
              " 'avefluxden': 13615.77330290577,\n",
              " 'aveindvpwr': 0.0011540943523868918,\n",
              " 'avespecpwr': 1.5385824373105864e-21,\n",
              " 'avetsky': 111.4391098022461,\n",
              " 'badspec': False,\n",
              " 'numHIpwr': 326,\n",
              " 'numave': 30112,\n",
              " 'numbad': 0,\n",
              " 'numcrpwr': 9421,\n",
              " 'numspecpwr': 9747,\n",
              " 'peakfluxden': 14932.340501863842,\n",
              " 'peakfluxfreq': 1420362741.2578125,\n",
              " 'peakpwr': 1.687354543606019e-21,\n",
              " 'peakpwrfreq': 1420362741.2578125,\n",
              " 'peaktsky': 122.21463458389968,\n",
              " 'peaktskyfreq': 1420362741.2578125,\n",
              " 'processing': 'Raw FFT',\n",
              " 'totalHIpwr': 5.202144598592639e-19,\n",
              " 'totalpwr': 1.4996563016466322e-17,\n",
              " 'user': '',\n",
              " 'varcrpwr': 5.002585095470724e-47,\n",
              " 'varfluxden': 0.0,\n",
              " 'varindvpwr': 1.4415335591877465e-10,\n",
              " 'varspecpwr': 1.9838309232567554e-46,\n",
              " 'vartsky': 0.0}"
            ]
          },
          "metadata": {
            "tags": []
          },
          "execution_count": 11
        }
      ]
    },
    {
      "cell_type": "markdown",
      "metadata": {
        "id": "43Pz-YXr5C-w",
        "colab_type": "text"
      },
      "source": [
        "`SpectralData` is a  dictionary which essentially captures the spectrum and some other frequency-dependent measures.  Each dictionary element is a vector of length `nfft`."
      ]
    },
    {
      "cell_type": "code",
      "metadata": {
        "id": "bnoZVWAjVX7_",
        "colab_type": "code",
        "colab": {
          "base_uri": "https://localhost:8080/",
          "height": 34
        },
        "outputId": "0a68fe7b-dc39-47a2-ba5b-d7d5167bcef6"
      },
      "source": [
        "lto_file.SpectralData.keys()"
      ],
      "execution_count": 12,
      "outputs": [
        {
          "output_type": "execute_result",
          "data": {
            "text/plain": [
              "dict_keys(['dopfreq', 'rawavepwr', 'rawvarpwr', 'calavepwr', 'flatten', 'tsky', 'fluxden', 'badline', 'HIline'])"
            ]
          },
          "metadata": {
            "tags": []
          },
          "execution_count": 12
        }
      ]
    },
    {
      "cell_type": "code",
      "metadata": {
        "id": "gt-TWlxmVwux",
        "colab_type": "code",
        "colab": {
          "base_uri": "https://localhost:8080/",
          "height": 34
        },
        "outputId": "52a5034d-a1e4-407f-dadd-4b987e81eae2"
      },
      "source": [
        "#type and length of the tsky member of the dictionary\n",
        "n = len(lto_file.SpectralData['tsky'])\n",
        "type(lto_file.SpectralData['tsky']), f'Length: {n}'"
      ],
      "execution_count": 13,
      "outputs": [
        {
          "output_type": "execute_result",
          "data": {
            "text/plain": [
              "(numpy.ndarray, 'Length: 16385')"
            ]
          },
          "metadata": {
            "tags": []
          },
          "execution_count": 13
        }
      ]
    },
    {
      "cell_type": "code",
      "metadata": {
        "id": "SxoumHmr5Xqu",
        "colab_type": "code",
        "colab": {
          "base_uri": "https://localhost:8080/",
          "height": 295
        },
        "outputId": "6269f679-54c4-448c-c715-e7c3767d9934"
      },
      "source": [
        "plt.plot(lto_file.SpectralData['dopfreq'], lto_file.SpectralData['calavepwr'])\n",
        "plt.xlabel('Dopler Frequency')\n",
        "plt.ylabel('Calibrated Power')\n",
        "zz=plt.title('Spectrum at '+lto_file.get_time().strftime('%Y-%m-%d %H:%M:%S %z'))"
      ],
      "execution_count": 14,
      "outputs": [
        {
          "output_type": "display_data",
          "data": {
            "image/png": "[encoded data removed]",
            "text/plain": [
              "<Figure size 432x288 with 1 Axes>"
            ]
          },
          "metadata": {
            "tags": [],
            "needs_background": "light"
          }
        }
      ]
    },
    {
      "cell_type": "markdown",
      "metadata": {
        "id": "Y2062dJL8TP0",
        "colab_type": "text"
      },
      "source": [
        "Sometimes it's easier to work with a `Pandas` dataframe. The `LTO_File` class provides a method to do so."
      ]
    },
    {
      "cell_type": "code",
      "metadata": {
        "id": "q0qXAPf78f1M",
        "colab_type": "code",
        "colab": {
          "base_uri": "https://localhost:8080/",
          "height": 204
        },
        "outputId": "5804b72d-9c01-4d0d-b7e9-b91d18cd4a2a"
      },
      "source": [
        "import pandas as pd\n",
        "pd_df = lto_file.to_pandas()\n",
        "pd_df.head()"
      ],
      "execution_count": 15,
      "outputs": [
        {
          "output_type": "execute_result",
          "data": {
            "text/html": [
              "<div>\n",
              "<style scoped>\n",
              "    .dataframe tbody tr th:only-of-type {\n",
              "        vertical-align: middle;\n",
              "    }\n",
              "\n",
              "    .dataframe tbody tr th {\n",
              "        vertical-align: top;\n",
              "    }\n",
              "\n",
              "    .dataframe thead th {\n",
              "        text-align: right;\n",
              "    }\n",
              "</style>\n",
              "<table border=\"1\" class=\"dataframe\">\n",
              "  <thead>\n",
              "    <tr style=\"text-align: right;\">\n",
              "      <th></th>\n",
              "      <th>ts</th>\n",
              "      <th>ra</th>\n",
              "      <th>dec</th>\n",
              "      <th>dopfreq</th>\n",
              "      <th>rawavepwr</th>\n",
              "      <th>rawvarpwr</th>\n",
              "      <th>calavepwr</th>\n",
              "      <th>flatten</th>\n",
              "      <th>tsky</th>\n",
              "      <th>fluxden</th>\n",
              "      <th>badline</th>\n",
              "      <th>HIline</th>\n",
              "    </tr>\n",
              "  </thead>\n",
              "  <tbody>\n",
              "    <tr>\n",
              "      <th>0</th>\n",
              "      <td>2018-09-02 17:41:53+00:00</td>\n",
              "      <td>ra</td>\n",
              "      <td>dec</td>\n",
              "      <td>-5000000.0</td>\n",
              "      <td>0.000928</td>\n",
              "      <td>8.694844e-07</td>\n",
              "      <td>1.331449e-21</td>\n",
              "      <td>0.869181</td>\n",
              "      <td>96.436501</td>\n",
              "      <td>11782.735352</td>\n",
              "      <td>True</td>\n",
              "      <td>False</td>\n",
              "    </tr>\n",
              "    <tr>\n",
              "      <th>1</th>\n",
              "      <td>2018-09-02 17:41:53+00:00</td>\n",
              "      <td>ra</td>\n",
              "      <td>dec</td>\n",
              "      <td>-4999389.5</td>\n",
              "      <td>0.000921</td>\n",
              "      <td>8.584904e-07</td>\n",
              "      <td>1.393561e-21</td>\n",
              "      <td>0.869213</td>\n",
              "      <td>100.935272</td>\n",
              "      <td>12332.401367</td>\n",
              "      <td>True</td>\n",
              "      <td>False</td>\n",
              "    </tr>\n",
              "    <tr>\n",
              "      <th>2</th>\n",
              "      <td>2018-09-02 17:41:53+00:00</td>\n",
              "      <td>ra</td>\n",
              "      <td>dec</td>\n",
              "      <td>-4998779.5</td>\n",
              "      <td>0.000934</td>\n",
              "      <td>8.577524e-07</td>\n",
              "      <td>1.329013e-21</td>\n",
              "      <td>0.869245</td>\n",
              "      <td>96.260063</td>\n",
              "      <td>11761.179688</td>\n",
              "      <td>True</td>\n",
              "      <td>False</td>\n",
              "    </tr>\n",
              "    <tr>\n",
              "      <th>3</th>\n",
              "      <td>2018-09-02 17:41:53+00:00</td>\n",
              "      <td>ra</td>\n",
              "      <td>dec</td>\n",
              "      <td>-4998169.0</td>\n",
              "      <td>0.000937</td>\n",
              "      <td>8.678040e-07</td>\n",
              "      <td>1.297855e-21</td>\n",
              "      <td>0.869278</td>\n",
              "      <td>94.003265</td>\n",
              "      <td>11485.439453</td>\n",
              "      <td>True</td>\n",
              "      <td>False</td>\n",
              "    </tr>\n",
              "    <tr>\n",
              "      <th>4</th>\n",
              "      <td>2018-09-02 17:41:53+00:00</td>\n",
              "      <td>ra</td>\n",
              "      <td>dec</td>\n",
              "      <td>-4997558.5</td>\n",
              "      <td>0.000940</td>\n",
              "      <td>8.779941e-07</td>\n",
              "      <td>1.277373e-21</td>\n",
              "      <td>0.869310</td>\n",
              "      <td>92.519798</td>\n",
              "      <td>11304.188477</td>\n",
              "      <td>True</td>\n",
              "      <td>False</td>\n",
              "    </tr>\n",
              "  </tbody>\n",
              "</table>\n",
              "</div>"
            ],
            "text/plain": [
              "                         ts  ra  dec  ...       fluxden  badline  HIline\n",
              "0 2018-09-02 17:41:53+00:00  ra  dec  ...  11782.735352     True   False\n",
              "1 2018-09-02 17:41:53+00:00  ra  dec  ...  12332.401367     True   False\n",
              "2 2018-09-02 17:41:53+00:00  ra  dec  ...  11761.179688     True   False\n",
              "3 2018-09-02 17:41:53+00:00  ra  dec  ...  11485.439453     True   False\n",
              "4 2018-09-02 17:41:53+00:00  ra  dec  ...  11304.188477     True   False\n",
              "\n",
              "[5 rows x 12 columns]"
            ]
          },
          "metadata": {
            "tags": []
          },
          "execution_count": 15
        }
      ]
    },
    {
      "cell_type": "markdown",
      "metadata": {
        "id": "STtpmcnaXp6w",
        "colab_type": "text"
      },
      "source": [
        "**TODO:** check out the ra and dec columns above"
      ]
    },
    {
      "cell_type": "markdown",
      "metadata": {
        "id": "zt4aWskA9R1L",
        "colab_type": "text"
      },
      "source": [
        "##Read All LTO Files in a Directory"
      ]
    },
    {
      "cell_type": "markdown",
      "metadata": {
        "id": "vBJrSmwdYLhN",
        "colab_type": "text"
      },
      "source": [
        "`lto_utils` provides functionality to read all `.lto` in a directory. This can useful in summarizing an observing session, such as a drift scan.\n",
        "\n",
        "**Caution:** the methods below will read **all** `.lto` files in the specified directory, so if there are files with duplicate content or `.lto` files from other observing sessions, such files will contaminate the results."
      ]
    },
    {
      "cell_type": "code",
      "metadata": {
        "id": "boJ8OTWwElo5",
        "colab_type": "code",
        "colab": {
          "base_uri": "https://localhost:8080/",
          "height": 34
        },
        "outputId": "74362dbf-5527-4154-fc81-6f2038c47e5f"
      },
      "source": [
        "# see the directories of observations:\n",
        "!ls lto_data"
      ],
      "execution_count": 16,
      "outputs": [
        {
          "output_type": "stream",
          "text": [
            "2018_08_30  2018_09_02\n"
          ],
          "name": "stdout"
        }
      ]
    },
    {
      "cell_type": "code",
      "metadata": {
        "id": "koLlK1-0lXuZ",
        "colab_type": "code",
        "colab": {}
      },
      "source": [
        "scan_date = '2018_08_30'"
      ],
      "execution_count": 17,
      "outputs": []
    },
    {
      "cell_type": "code",
      "metadata": {
        "id": "2O_zXQlb9oFA",
        "colab_type": "code",
        "colab": {}
      },
      "source": [
        "#get all the spectral characteristics for the observation of 2018_08_30\n",
        "# this can take a several minutes to run, espcially if the files are not local\n",
        "obs_summary = lto.getSpectralCharacteristics('lto_data/'+scan_date)"
      ],
      "execution_count": 19,
      "outputs": []
    },
    {
      "cell_type": "code",
      "metadata": {
        "id": "HIt8N-iO-yRv",
        "colab_type": "code",
        "colab": {
          "base_uri": "https://localhost:8080/",
          "height": 309
        },
        "outputId": "1bdf5cd0-e7de-452f-c0de-53c774473f40"
      },
      "source": [
        "obs_summary.head()"
      ],
      "execution_count": 20,
      "outputs": [
        {
          "output_type": "execute_result",
          "data": {
            "text/html": [
              "<div>\n",
              "<style scoped>\n",
              "    .dataframe tbody tr th:only-of-type {\n",
              "        vertical-align: middle;\n",
              "    }\n",
              "\n",
              "    .dataframe tbody tr th {\n",
              "        vertical-align: top;\n",
              "    }\n",
              "\n",
              "    .dataframe thead th {\n",
              "        text-align: right;\n",
              "    }\n",
              "</style>\n",
              "<table border=\"1\" class=\"dataframe\">\n",
              "  <thead>\n",
              "    <tr style=\"text-align: right;\">\n",
              "      <th></th>\n",
              "      <th>ra</th>\n",
              "      <th>dec</th>\n",
              "      <th>avespecpwr</th>\n",
              "      <th>varspecpwr</th>\n",
              "      <th>totalpwr</th>\n",
              "      <th>numspecpwr</th>\n",
              "      <th>numave</th>\n",
              "      <th>numbad</th>\n",
              "      <th>aveindvpwr</th>\n",
              "      <th>varindvpwr</th>\n",
              "      <th>peakpwr</th>\n",
              "      <th>peakpwrfreq</th>\n",
              "      <th>totalHIpwr</th>\n",
              "      <th>numHIpwr</th>\n",
              "      <th>avecrpwr</th>\n",
              "      <th>varcrpwr</th>\n",
              "      <th>numcrpwr</th>\n",
              "      <th>avetsky</th>\n",
              "      <th>vartsky</th>\n",
              "      <th>peaktsky</th>\n",
              "      <th>peaktskyfreq</th>\n",
              "      <th>avefluxden</th>\n",
              "      <th>varfluxden</th>\n",
              "      <th>peakfluxden</th>\n",
              "      <th>peakfluxfreq</th>\n",
              "      <th>badspec</th>\n",
              "      <th>processing</th>\n",
              "      <th>user</th>\n",
              "    </tr>\n",
              "  </thead>\n",
              "  <tbody>\n",
              "    <tr>\n",
              "      <th>2018-08-30 00:00:00+00:00</th>\n",
              "      <td>15.520048</td>\n",
              "      <td>-28.649834</td>\n",
              "      <td>1.444476e-21</td>\n",
              "      <td>1.353429e-46</td>\n",
              "      <td>1.407642e-17</td>\n",
              "      <td>9745</td>\n",
              "      <td>30092</td>\n",
              "      <td>0</td>\n",
              "      <td>0.001083</td>\n",
              "      <td>1.274390e-10</td>\n",
              "      <td>1.561759e-21</td>\n",
              "      <td>1.420289e+09</td>\n",
              "      <td>4.618978e-19</td>\n",
              "      <td>309</td>\n",
              "      <td>1.442827e-21</td>\n",
              "      <td>2.568388e-47</td>\n",
              "      <td>9436</td>\n",
              "      <td>104.622986</td>\n",
              "      <td>0.0</td>\n",
              "      <td>113.117754</td>\n",
              "      <td>1.420289e+09</td>\n",
              "      <td>12782.969690</td>\n",
              "      <td>0.0</td>\n",
              "      <td>13820.872090</td>\n",
              "      <td>1.420289e+09</td>\n",
              "      <td>False</td>\n",
              "      <td>Raw FFT</td>\n",
              "      <td></td>\n",
              "    </tr>\n",
              "    <tr>\n",
              "      <th>2018-08-30 00:01:03+00:00</th>\n",
              "      <td>15.537596</td>\n",
              "      <td>-28.649834</td>\n",
              "      <td>1.443763e-21</td>\n",
              "      <td>1.382606e-46</td>\n",
              "      <td>1.407092e-17</td>\n",
              "      <td>9746</td>\n",
              "      <td>30096</td>\n",
              "      <td>0</td>\n",
              "      <td>0.001083</td>\n",
              "      <td>1.267306e-10</td>\n",
              "      <td>1.566766e-21</td>\n",
              "      <td>1.420288e+09</td>\n",
              "      <td>4.881722e-19</td>\n",
              "      <td>327</td>\n",
              "      <td>1.442058e-21</td>\n",
              "      <td>2.358598e-47</td>\n",
              "      <td>9419</td>\n",
              "      <td>104.571396</td>\n",
              "      <td>0.0</td>\n",
              "      <td>113.480403</td>\n",
              "      <td>1.420288e+09</td>\n",
              "      <td>12776.666376</td>\n",
              "      <td>0.0</td>\n",
              "      <td>13865.180829</td>\n",
              "      <td>1.420288e+09</td>\n",
              "      <td>False</td>\n",
              "      <td>Raw FFT</td>\n",
              "      <td></td>\n",
              "    </tr>\n",
              "    <tr>\n",
              "      <th>2018-08-30 00:02:05+00:00</th>\n",
              "      <td>15.554865</td>\n",
              "      <td>-28.649834</td>\n",
              "      <td>1.444302e-21</td>\n",
              "      <td>1.382527e-46</td>\n",
              "      <td>1.407473e-17</td>\n",
              "      <td>9745</td>\n",
              "      <td>30108</td>\n",
              "      <td>0</td>\n",
              "      <td>0.001083</td>\n",
              "      <td>1.267346e-10</td>\n",
              "      <td>1.566334e-21</td>\n",
              "      <td>1.420291e+09</td>\n",
              "      <td>4.926297e-19</td>\n",
              "      <td>330</td>\n",
              "      <td>1.442602e-21</td>\n",
              "      <td>2.326524e-47</td>\n",
              "      <td>9415</td>\n",
              "      <td>104.610435</td>\n",
              "      <td>0.0</td>\n",
              "      <td>113.449182</td>\n",
              "      <td>1.420291e+09</td>\n",
              "      <td>12781.437406</td>\n",
              "      <td>0.0</td>\n",
              "      <td>13861.366529</td>\n",
              "      <td>1.420291e+09</td>\n",
              "      <td>False</td>\n",
              "      <td>Raw FFT</td>\n",
              "      <td></td>\n",
              "    </tr>\n",
              "    <tr>\n",
              "      <th>2018-08-30 00:03:06+00:00</th>\n",
              "      <td>15.571856</td>\n",
              "      <td>-28.649834</td>\n",
              "      <td>1.443155e-21</td>\n",
              "      <td>1.337044e-46</td>\n",
              "      <td>1.406499e-17</td>\n",
              "      <td>9746</td>\n",
              "      <td>30124</td>\n",
              "      <td>0</td>\n",
              "      <td>0.001082</td>\n",
              "      <td>1.287260e-10</td>\n",
              "      <td>1.564852e-21</td>\n",
              "      <td>1.420293e+09</td>\n",
              "      <td>5.271377e-19</td>\n",
              "      <td>354</td>\n",
              "      <td>1.441424e-21</td>\n",
              "      <td>2.139084e-47</td>\n",
              "      <td>9392</td>\n",
              "      <td>104.527321</td>\n",
              "      <td>0.0</td>\n",
              "      <td>113.341782</td>\n",
              "      <td>1.420293e+09</td>\n",
              "      <td>12771.281927</td>\n",
              "      <td>0.0</td>\n",
              "      <td>13848.244932</td>\n",
              "      <td>1.420293e+09</td>\n",
              "      <td>False</td>\n",
              "      <td>Raw FFT</td>\n",
              "      <td></td>\n",
              "    </tr>\n",
              "    <tr>\n",
              "      <th>2018-08-30 00:04:06+00:00</th>\n",
              "      <td>15.588569</td>\n",
              "      <td>-28.649834</td>\n",
              "      <td>1.443792e-21</td>\n",
              "      <td>1.409024e-46</td>\n",
              "      <td>1.406975e-17</td>\n",
              "      <td>9745</td>\n",
              "      <td>30080</td>\n",
              "      <td>0</td>\n",
              "      <td>0.001083</td>\n",
              "      <td>1.274679e-10</td>\n",
              "      <td>1.569706e-21</td>\n",
              "      <td>1.420293e+09</td>\n",
              "      <td>4.648412e-19</td>\n",
              "      <td>311</td>\n",
              "      <td>1.442114e-21</td>\n",
              "      <td>2.538098e-47</td>\n",
              "      <td>9434</td>\n",
              "      <td>104.573433</td>\n",
              "      <td>0.0</td>\n",
              "      <td>113.693410</td>\n",
              "      <td>1.420293e+09</td>\n",
              "      <td>12776.916287</td>\n",
              "      <td>0.0</td>\n",
              "      <td>13891.206928</td>\n",
              "      <td>1.420293e+09</td>\n",
              "      <td>False</td>\n",
              "      <td>Raw FFT</td>\n",
              "      <td></td>\n",
              "    </tr>\n",
              "  </tbody>\n",
              "</table>\n",
              "</div>"
            ],
            "text/plain": [
              "                                  ra        dec  ...  processing  user\n",
              "2018-08-30 00:00:00+00:00  15.520048 -28.649834  ...     Raw FFT      \n",
              "2018-08-30 00:01:03+00:00  15.537596 -28.649834  ...     Raw FFT      \n",
              "2018-08-30 00:02:05+00:00  15.554865 -28.649834  ...     Raw FFT      \n",
              "2018-08-30 00:03:06+00:00  15.571856 -28.649834  ...     Raw FFT      \n",
              "2018-08-30 00:04:06+00:00  15.588569 -28.649834  ...     Raw FFT      \n",
              "\n",
              "[5 rows x 28 columns]"
            ]
          },
          "metadata": {
            "tags": []
          },
          "execution_count": 20
        }
      ]
    },
    {
      "cell_type": "code",
      "metadata": {
        "id": "guTX5mCH-0ei",
        "colab_type": "code",
        "colab": {
          "base_uri": "https://localhost:8080/",
          "height": 34
        },
        "outputId": "1f83af31-f10e-4529-9f86-4426096be48f"
      },
      "source": [
        "len(obs_summary)"
      ],
      "execution_count": 21,
      "outputs": [
        {
          "output_type": "execute_result",
          "data": {
            "text/plain": [
              "1415"
            ]
          },
          "metadata": {
            "tags": []
          },
          "execution_count": 21
        }
      ]
    },
    {
      "cell_type": "code",
      "metadata": {
        "id": "fpDQERUo-LGx",
        "colab_type": "code",
        "colab": {
          "base_uri": "https://localhost:8080/",
          "height": 347
        },
        "outputId": "7197c40c-1f1e-4460-966b-22e3659193cf"
      },
      "source": [
        "plt.plot(obs_summary.index, obs_summary.avetsky)\n",
        "plt.title(f'Drift Scan Summary, Scan Date: {scan_date}')\n",
        "plt.xlabel('Time (UT)')\n",
        "plt.xticks(rotation=90)\n",
        "plt.ylabel('Average Sky Temp (K)')"
      ],
      "execution_count": 22,
      "outputs": [
        {
          "output_type": "execute_result",
          "data": {
            "text/plain": [
              "Text(0, 0.5, 'Average Sky Temp (K)')"
            ]
          },
          "metadata": {
            "tags": []
          },
          "execution_count": 22
        },
        {
          "output_type": "display_data",
          "data": {
            "image/png": "[encoded data removed]",
            "text/plain": [
              "<Figure size 432x288 with 1 Axes>"
            ]
          },
          "metadata": {
            "tags": [],
            "needs_background": "light"
          }
        }
      ]
    },
    {
      "cell_type": "code",
      "metadata": {
        "id": "Jk8rshL1L4-o",
        "colab_type": "code",
        "colab": {
          "base_uri": "https://localhost:8080/",
          "height": 298
        },
        "outputId": "10806e82-e934-4834-bd57-02ccb86aa156"
      },
      "source": [
        "#it's a drift scan so plot by right ascension\n",
        "plt.scatter(obs_summary.ra, obs_summary.avetsky, s=9)\n",
        "plt.title(f'Drift Scan Summary, Scan Date: {scan_date}')\n",
        "plt.xlabel('Right Ascension (deg)')\n",
        "plt.xticks(rotation=90)\n",
        "plt.ylabel('Average Sky Temp (K)')\n",
        "plt.grid()\n",
        "plt.gca().invert_xaxis()"
      ],
      "execution_count": 23,
      "outputs": [
        {
          "output_type": "display_data",
          "data": {
            "image/png": "[encoded data removed]",
            "text/plain": [
              "<Figure size 432x288 with 1 Axes>"
            ]
          },
          "metadata": {
            "tags": [],
            "needs_background": "light"
          }
        }
      ]
    },
    {
      "cell_type": "code",
      "metadata": {
        "id": "Qj_5NUmzAHRY",
        "colab_type": "code",
        "colab": {}
      },
      "source": [
        "#get all the spectral data from the drift scan\n",
        "spectra = lto.getDriftScan('lto_data/'+scan_date)"
      ],
      "execution_count": 24,
      "outputs": []
    },
    {
      "cell_type": "code",
      "metadata": {
        "id": "VoKmaHQZN4ya",
        "colab_type": "code",
        "colab": {
          "base_uri": "https://localhost:8080/",
          "height": 204
        },
        "outputId": "deb1211f-0a41-4dff-ce68-2c4bfca63e49"
      },
      "source": [
        "spectra.head()"
      ],
      "execution_count": 25,
      "outputs": [
        {
          "output_type": "execute_result",
          "data": {
            "text/html": [
              "<div>\n",
              "<style scoped>\n",
              "    .dataframe tbody tr th:only-of-type {\n",
              "        vertical-align: middle;\n",
              "    }\n",
              "\n",
              "    .dataframe tbody tr th {\n",
              "        vertical-align: top;\n",
              "    }\n",
              "\n",
              "    .dataframe thead th {\n",
              "        text-align: right;\n",
              "    }\n",
              "</style>\n",
              "<table border=\"1\" class=\"dataframe\">\n",
              "  <thead>\n",
              "    <tr style=\"text-align: right;\">\n",
              "      <th></th>\n",
              "      <th>index</th>\n",
              "      <th>ts</th>\n",
              "      <th>ra</th>\n",
              "      <th>dec</th>\n",
              "      <th>dopfreq</th>\n",
              "      <th>rawavepwr</th>\n",
              "      <th>rawvarpwr</th>\n",
              "      <th>calavepwr</th>\n",
              "      <th>flatten</th>\n",
              "      <th>tsky</th>\n",
              "      <th>fluxden</th>\n",
              "      <th>badline</th>\n",
              "      <th>HIline</th>\n",
              "    </tr>\n",
              "  </thead>\n",
              "  <tbody>\n",
              "    <tr>\n",
              "      <th>0</th>\n",
              "      <td>0</td>\n",
              "      <td>2018-08-30 00:00:00+00:00</td>\n",
              "      <td>ra</td>\n",
              "      <td>dec</td>\n",
              "      <td>-5000000.0</td>\n",
              "      <td>0.000872</td>\n",
              "      <td>7.601285e-07</td>\n",
              "      <td>1.650370e-21</td>\n",
              "      <td>0.869181</td>\n",
              "      <td>119.535843</td>\n",
              "      <td>14605.042969</td>\n",
              "      <td>True</td>\n",
              "      <td>False</td>\n",
              "    </tr>\n",
              "    <tr>\n",
              "      <th>1</th>\n",
              "      <td>1</td>\n",
              "      <td>2018-08-30 00:00:00+00:00</td>\n",
              "      <td>ra</td>\n",
              "      <td>dec</td>\n",
              "      <td>-4999389.5</td>\n",
              "      <td>0.000873</td>\n",
              "      <td>7.742312e-07</td>\n",
              "      <td>2.000895e-22</td>\n",
              "      <td>0.869213</td>\n",
              "      <td>14.492430</td>\n",
              "      <td>1770.703735</td>\n",
              "      <td>True</td>\n",
              "      <td>False</td>\n",
              "    </tr>\n",
              "    <tr>\n",
              "      <th>2</th>\n",
              "      <td>2</td>\n",
              "      <td>2018-08-30 00:00:00+00:00</td>\n",
              "      <td>ra</td>\n",
              "      <td>dec</td>\n",
              "      <td>-4998779.5</td>\n",
              "      <td>0.000863</td>\n",
              "      <td>7.466940e-07</td>\n",
              "      <td>7.698402e-22</td>\n",
              "      <td>0.869245</td>\n",
              "      <td>55.759319</td>\n",
              "      <td>6812.745117</td>\n",
              "      <td>True</td>\n",
              "      <td>False</td>\n",
              "    </tr>\n",
              "    <tr>\n",
              "      <th>3</th>\n",
              "      <td>3</td>\n",
              "      <td>2018-08-30 00:00:00+00:00</td>\n",
              "      <td>ra</td>\n",
              "      <td>dec</td>\n",
              "      <td>-4998169.0</td>\n",
              "      <td>0.000869</td>\n",
              "      <td>7.629142e-07</td>\n",
              "      <td>9.315662e-22</td>\n",
              "      <td>0.869278</td>\n",
              "      <td>67.473091</td>\n",
              "      <td>8243.949219</td>\n",
              "      <td>True</td>\n",
              "      <td>False</td>\n",
              "    </tr>\n",
              "    <tr>\n",
              "      <th>4</th>\n",
              "      <td>4</td>\n",
              "      <td>2018-08-30 00:00:00+00:00</td>\n",
              "      <td>ra</td>\n",
              "      <td>dec</td>\n",
              "      <td>-4997558.5</td>\n",
              "      <td>0.000880</td>\n",
              "      <td>7.933194e-07</td>\n",
              "      <td>1.076439e-21</td>\n",
              "      <td>0.869310</td>\n",
              "      <td>77.966202</td>\n",
              "      <td>9526.011719</td>\n",
              "      <td>True</td>\n",
              "      <td>False</td>\n",
              "    </tr>\n",
              "  </tbody>\n",
              "</table>\n",
              "</div>"
            ],
            "text/plain": [
              "   index                        ts  ra  ...       fluxden  badline  HIline\n",
              "0      0 2018-08-30 00:00:00+00:00  ra  ...  14605.042969     True   False\n",
              "1      1 2018-08-30 00:00:00+00:00  ra  ...   1770.703735     True   False\n",
              "2      2 2018-08-30 00:00:00+00:00  ra  ...   6812.745117     True   False\n",
              "3      3 2018-08-30 00:00:00+00:00  ra  ...   8243.949219     True   False\n",
              "4      4 2018-08-30 00:00:00+00:00  ra  ...   9526.011719     True   False\n",
              "\n",
              "[5 rows x 13 columns]"
            ]
          },
          "metadata": {
            "tags": []
          },
          "execution_count": 25
        }
      ]
    },
    {
      "cell_type": "markdown",
      "metadata": {
        "id": "PXVHVsfNmIGy",
        "colab_type": "text"
      },
      "source": [
        "Yeilds a rather large data frame:"
      ]
    },
    {
      "cell_type": "code",
      "metadata": {
        "id": "ZysVde6HaPYd",
        "colab_type": "code",
        "colab": {
          "base_uri": "https://localhost:8080/",
          "height": 34
        },
        "outputId": "690712a9-f3a3-4be6-e380-6a9979ba847f"
      },
      "source": [
        "len(spectra)"
      ],
      "execution_count": 26,
      "outputs": [
        {
          "output_type": "execute_result",
          "data": {
            "text/plain": [
              "23184775"
            ]
          },
          "metadata": {
            "tags": []
          },
          "execution_count": 26
        }
      ]
    },
    {
      "cell_type": "markdown",
      "metadata": {
        "id": "Xi8nU9z343fl",
        "colab_type": "text"
      },
      "source": [
        "## Construct a Spectrogram"
      ]
    },
    {
      "cell_type": "markdown",
      "metadata": {
        "id": "48wx1rwQcebb",
        "colab_type": "text"
      },
      "source": [
        "The `spectra` data frame from above can be unweildy with 23 million rows, so the `getDriftScan` method provides a `dfclip` method to eliminate data at the far ends of the spectrum. If we clip the spectrum, the production of the spectrogram proceeds much faster."
      ]
    },
    {
      "cell_type": "code",
      "metadata": {
        "id": "5b7nDYcKdQuA",
        "colab_type": "code",
        "colab": {
          "base_uri": "https://localhost:8080/",
          "height": 34
        },
        "outputId": "d3ce12c5-e2af-4f96-b5de-4734ec80dc4c"
      },
      "source": [
        "#clip to -100 kHz to 100 kHz\n",
        "spectra = lto.getDriftScan('lto_data/2018_08_30', dfclip=(-0.1e6, 0.1e6))\n",
        "len(spectra)"
      ],
      "execution_count": 27,
      "outputs": [
        {
          "output_type": "execute_result",
          "data": {
            "text/plain": [
              "462705"
            ]
          },
          "metadata": {
            "tags": []
          },
          "execution_count": 27
        }
      ]
    },
    {
      "cell_type": "code",
      "metadata": {
        "id": "Wi234ZkNfeHu",
        "colab_type": "code",
        "colab": {}
      },
      "source": [
        "#helper routine to beautify the time formating:\n",
        "import matplotlib.dates as mdates\n",
        "fmt = mdates.DateFormatter('%H:%M')\n"
      ],
      "execution_count": 28,
      "outputs": []
    },
    {
      "cell_type": "code",
      "metadata": {
        "id": "kkSuY5nFN9DE",
        "colab_type": "code",
        "colab": {}
      },
      "source": [
        "#first, get the y axis (dopler freq):\n",
        "dopfreqs = spectra.dopfreq.unique()\n",
        "\n",
        "# next, get the x-axis which is the time of the observations;\n",
        "obs_times = spectra.ts.unique()\n",
        "\n",
        "#get the sky temp, which we'll plot as a 2D array and transposed;\n",
        "skytemp = np.array(spectra.tsky).reshape(len(obs_times), len(dopfreqs)).T"
      ],
      "execution_count": 31,
      "outputs": []
    },
    {
      "cell_type": "code",
      "metadata": {
        "id": "70J4Lv0g6FKS",
        "colab_type": "code",
        "colab": {
          "base_uri": "https://localhost:8080/",
          "height": 588
        },
        "outputId": "f3fe45a6-eb97-4ab7-f71f-2972f7e49224"
      },
      "source": [
        "fig = plt.figure(figsize=(12,9))\n",
        "ax = fig.add_subplot()\n",
        "\n",
        "pcm = ax.pcolormesh( obs_times,  dopfreqs, skytemp)\n",
        "\n",
        "fig.colorbar(pcm, label='Sky Temp (K)')\n",
        "\n",
        "plt.xlabel('Time (UT)')\n",
        "plt.gca().xaxis.set_major_formatter(fmt)\n",
        "plt.xticks(rotation=90)\n",
        "plt.ylabel('Dopler Shift (kHz)')\n",
        "plt.title(f'LTO Driftscan of {scan_date}',fontdict={'fontsize':16, 'fontweight':'bold'})\n",
        "plt.grid()"
      ],
      "execution_count": 32,
      "outputs": [
        {
          "output_type": "display_data",
          "data": {
            "image/png": "[encoded data removed]",
            "text/plain": [
              "<Figure size 864x648 with 2 Axes>"
            ]
          },
          "metadata": {
            "tags": [],
            "needs_background": "light"
          }
        }
      ]
    }
  ]
}