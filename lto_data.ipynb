{
  "nbformat": 4,
  "nbformat_minor": 0,
  "metadata": {
    "colab": {
      "name": "lto_data.ipynb",
      "provenance": [],
      "toc_visible": true,
      "authorship_tag": "ABX9TyM9HsgylMuG26nM1JpKBHzH",
      "include_colab_link": true
    },
    "kernelspec": {
      "name": "python3",
      "display_name": "Python 3"
    }
  },
  "cells": [
    {
      "cell_type": "markdown",
      "metadata": {
        "id": "view-in-github",
        "colab_type": "text"
      },
      "source": [
        "<a href=\"https://colab.research.google.com/github/kevinmcmanus/lto_utils/blob/master/lto_data.ipynb\" target=\"_parent\"><img src=\"https://colab.research.google.com/assets/colab-badge.svg\" alt=\"Open In Colab\"/></a>"
      ]
    },
    {
      "cell_type": "markdown",
      "metadata": {
        "id": "Apn0zMs9QY2v",
        "colab_type": "text"
      },
      "source": [
        "# LTO Utilities Library"
      ]
    },
    {
      "cell_type": "markdown",
      "metadata": {
        "id": "bX344M-tQnQ4",
        "colab_type": "text"
      },
      "source": [
        "The LTO Utilities library provides a set of useful functions for dealing with files output from the Little Thompson Observatory's radio telescope. These files, suffixed with '.lto' capture spectral information and the data processing pipeline produces them at approximately one-minute intervals throughout an observation.\n",
        "\n",
        "For the purposes of this demo, a 24-hour drift scan observation is available in Google Cloud Storage.  Having the data in GCS complicates this demo somewhat in that the Google Colab virtual machine that is running this notebook needs to mount the GCS as a preliminary step.\n",
        "The actual demonstration of obtaining and using the `lto_utils` library begins in the section entitled 'Clone the lto_utils' repo."
      ]
    },
    {
      "cell_type": "markdown",
      "metadata": {
        "id": "8WapFl0zTWf-",
        "colab_type": "text"
      },
      "source": [
        "## Preliminaries"
      ]
    },
    {
      "cell_type": "markdown",
      "metadata": {
        "id": "YNxuMpwmB9ba",
        "colab_type": "text"
      },
      "source": [
        "### References on Using Cloud Storage in Colab"
      ]
    },
    {
      "cell_type": "markdown",
      "metadata": {
        "id": "K4CVm6sAuU1v",
        "colab_type": "text"
      },
      "source": [
        "These articles explain how to make Google Cloud Storage availabale within a Google Colab notebook, such as this one.\n",
        "\n",
        "(https://medium.com/analytics-vidhya/how-to-access-files-from-google-cloud-storage-in-colab-notebooks-8edaf9e6c020)\n",
        "\n",
        "(https://stackoverflow.com/questions/51715268/how-to-import-data-from-google-cloud-storage-to-google-colab)\n",
        "\n",
        "(https://ostrokach.gitlab.io/post/google-colab-storage/)"
      ]
    },
    {
      "cell_type": "markdown",
      "metadata": {
        "id": "CCYrwRu93ESO",
        "colab_type": "text"
      },
      "source": [
        "### Authenticate and Mount GCS Bucket"
      ]
    },
    {
      "cell_type": "code",
      "metadata": {
        "id": "zmj1xAxhooC_",
        "colab_type": "code",
        "colab": {}
      },
      "source": [
        "from google.colab import auth\n",
        "\n",
        "auth.authenticate_user()"
      ],
      "execution_count": 27,
      "outputs": []
    },
    {
      "cell_type": "code",
      "metadata": {
        "id": "gaybdAkUqRdK",
        "colab_type": "code",
        "colab": {
          "base_uri": "https://localhost:8080/",
          "height": 323
        },
        "outputId": "dc8618ba-5784-4321-872b-9cdbdf710b04"
      },
      "source": [
        "!echo \"deb http://packages.cloud.google.com/apt gcsfuse-bionic main\" > /etc/apt/sources.list.d/gcsfuse.list\n",
        "!curl https://packages.cloud.google.com/apt/doc/apt-key.gpg | apt-key add -\n",
        "!apt -qq update\n",
        "!apt -qq install gcsfuse"
      ],
      "execution_count": 28,
      "outputs": [
        {
          "output_type": "stream",
          "text": [
            "  % Total    % Received % Xferd  Average Speed   Time    Time     Time  Current\n",
            "                                 Dload  Upload   Total   Spent    Left  Speed\n",
            "\r  0     0    0     0    0     0      0      0 --:--:-- --:--:-- --:--:--     0\r100   653  100   653    0     0  26120      0 --:--:-- --:--:-- --:--:-- 26120\n",
            "OK\n",
            "54 packages can be upgraded. Run 'apt list --upgradable' to see them.\n",
            "The following package was automatically installed and is no longer required:\n",
            "  libnvidia-common-440\n",
            "Use 'apt autoremove' to remove it.\n",
            "The following NEW packages will be installed:\n",
            "  gcsfuse\n",
            "0 upgraded, 1 newly installed, 0 to remove and 54 not upgraded.\n",
            "Need to get 4,278 kB of archives.\n",
            "After this operation, 12.8 MB of additional disk space will be used.\n",
            "Selecting previously unselected package gcsfuse.\n",
            "(Reading database ... 144487 files and directories currently installed.)\n",
            "Preparing to unpack .../gcsfuse_0.30.0_amd64.deb ...\n",
            "Unpacking gcsfuse (0.30.0) ...\n",
            "Setting up gcsfuse (0.30.0) ...\n"
          ],
          "name": "stdout"
        }
      ]
    },
    {
      "cell_type": "code",
      "metadata": {
        "id": "kIp99n9w16jC",
        "colab_type": "code",
        "colab": {
          "base_uri": "https://localhost:8080/",
          "height": 102
        },
        "outputId": "a7d8bfaf-610d-4fb3-afa4-598ccd7a84fc"
      },
      "source": [
        "#Mount the drive\n",
        "!mkdir lto_data\n",
        "!gcsfuse --implicit-dirs --limit-bytes-per-sec -1 --limit-ops-per-sec -1 lto_data lto_data"
      ],
      "execution_count": 29,
      "outputs": [
        {
          "output_type": "stream",
          "text": [
            "Using mount point: /content/lto_data\n",
            "Opening GCS connection...\n",
            "Opening bucket...\n",
            "Mounting file system...\n",
            "File system has been successfully mounted.\n"
          ],
          "name": "stdout"
        }
      ]
    },
    {
      "cell_type": "code",
      "metadata": {
        "id": "oDjKuzUQovOK",
        "colab_type": "code",
        "colab": {}
      },
      "source": [
        "#to mount your own google drive, do this:\n",
        "#from google.colab import drive\n",
        "#drive.mount('/content/drive')"
      ],
      "execution_count": null,
      "outputs": []
    },
    {
      "cell_type": "markdown",
      "metadata": {
        "id": "uSS5amXO3kSA",
        "colab_type": "text"
      },
      "source": [
        "## Clone the lto_utils Repo"
      ]
    },
    {
      "cell_type": "code",
      "metadata": {
        "id": "uDtC6puZv7KZ",
        "colab_type": "code",
        "colab": {
          "base_uri": "https://localhost:8080/",
          "height": 34
        },
        "outputId": "32747637-e56a-4205-845e-bfe94f0cb490"
      },
      "source": [
        "!git clone https://github.com/kevinmcmanus/lto_utils"
      ],
      "execution_count": 30,
      "outputs": [
        {
          "output_type": "stream",
          "text": [
            "fatal: destination path 'lto_utils' already exists and is not an empty directory.\n"
          ],
          "name": "stdout"
        }
      ]
    },
    {
      "cell_type": "code",
      "metadata": {
        "id": "nsSP0NYwwKwh",
        "colab_type": "code",
        "colab": {}
      },
      "source": [
        "import sys\n",
        "sys.path.append('lto_utils')"
      ],
      "execution_count": 31,
      "outputs": []
    },
    {
      "cell_type": "code",
      "metadata": {
        "id": "j_8kTKpxwjtJ",
        "colab_type": "code",
        "colab": {}
      },
      "source": [
        "import lto_utils.lto_file as lto"
      ],
      "execution_count": 32,
      "outputs": []
    },
    {
      "cell_type": "code",
      "metadata": {
        "id": "e5axO4LHXGKX",
        "colab_type": "code",
        "colab": {}
      },
      "source": [
        "import numpy as np\n",
        "import pandas as pd\n",
        "import matplotlib.pyplot as plt\n",
        "%matplotlib inline"
      ],
      "execution_count": 33,
      "outputs": []
    },
    {
      "cell_type": "markdown",
      "metadata": {
        "id": "ILwzuvxr33Du",
        "colab_type": "text"
      },
      "source": [
        "## Read Single LTO File and Examine its Contents"
      ]
    },
    {
      "cell_type": "code",
      "metadata": {
        "id": "Pt8V5ZXxyROo",
        "colab_type": "code",
        "colab": {}
      },
      "source": [
        "#set the path to the object\n",
        "path = 'lto_data/2018_09_02/LTO-HI-2018-09-02-17-41-53.lto'\n",
        "\n",
        "#create an LTO_File object\n",
        "lto_file = lto.LTO_File(path)\n"
      ],
      "execution_count": 34,
      "outputs": []
    },
    {
      "cell_type": "markdown",
      "metadata": {
        "id": "b9jb-__ZUvEc",
        "colab_type": "text"
      },
      "source": [
        "`lto_file` object contains two attributes: `SpectralHeader` and `SpectralData`. Both are large data structures. The `SpectralHeader` has several subsections which are:"
      ]
    },
    {
      "cell_type": "code",
      "metadata": {
        "id": "MprZi3yXU5MX",
        "colab_type": "code",
        "colab": {
          "base_uri": "https://localhost:8080/",
          "height": 54
        },
        "outputId": "5ed6a70d-9501-4a1a-d623-2c74b9b4f681"
      },
      "source": [
        "lto_file.SpectralHeader.keys()"
      ],
      "execution_count": 35,
      "outputs": [
        {
          "output_type": "execute_result",
          "data": {
            "text/plain": [
              "dict_keys(['Magic', 'Observatory', 'ObsLocation', 'BeamPosition', 'ObsTime', 'Spectrum', 'RadioCalibrations', 'ProgramControl', 'SpectralCharacteristics'])"
            ]
          },
          "metadata": {
            "tags": []
          },
          "execution_count": 35
        }
      ]
    },
    {
      "cell_type": "markdown",
      "metadata": {
        "id": "NvVLpWOi4Y6y",
        "colab_type": "text"
      },
      "source": [
        " \n",
        "The subsection `SpectralCharacteristics`  contains summary information of the file. \n",
        " This subsection is particularly useful."
      ]
    },
    {
      "cell_type": "code",
      "metadata": {
        "id": "mjADjPid4KyQ",
        "colab_type": "code",
        "colab": {
          "base_uri": "https://localhost:8080/",
          "height": 459
        },
        "outputId": "902f6229-40d1-49d6-9b6f-8d8495f53ad7"
      },
      "source": [
        "lto_file.SpectralHeader['SpectralCharacteristics']"
      ],
      "execution_count": 36,
      "outputs": [
        {
          "output_type": "execute_result",
          "data": {
            "text/plain": [
              "{'avecrpwr': 1.5366042412277951e-21,\n",
              " 'avefluxden': 13615.77330290577,\n",
              " 'aveindvpwr': 0.0011540943523868918,\n",
              " 'avespecpwr': 1.5385824373105864e-21,\n",
              " 'avetsky': 111.4391098022461,\n",
              " 'badspec': False,\n",
              " 'numHIpwr': 326,\n",
              " 'numave': 30112,\n",
              " 'numbad': 0,\n",
              " 'numcrpwr': 9421,\n",
              " 'numspecpwr': 9747,\n",
              " 'peakfluxden': 14932.340501863842,\n",
              " 'peakfluxfreq': 1420362741.2578125,\n",
              " 'peakpwr': 1.687354543606019e-21,\n",
              " 'peakpwrfreq': 1420362741.2578125,\n",
              " 'peaktsky': 122.21463458389968,\n",
              " 'peaktskyfreq': 1420362741.2578125,\n",
              " 'processing': 'Raw FFT',\n",
              " 'totalHIpwr': 5.202144598592639e-19,\n",
              " 'totalpwr': 1.4996563016466322e-17,\n",
              " 'user': '',\n",
              " 'varcrpwr': 5.002585095470724e-47,\n",
              " 'varfluxden': 0.0,\n",
              " 'varindvpwr': 1.4415335591877465e-10,\n",
              " 'varspecpwr': 1.9838309232567554e-46,\n",
              " 'vartsky': 0.0}"
            ]
          },
          "metadata": {
            "tags": []
          },
          "execution_count": 36
        }
      ]
    },
    {
      "cell_type": "markdown",
      "metadata": {
        "id": "43Pz-YXr5C-w",
        "colab_type": "text"
      },
      "source": [
        "`SpectralData` is a  dictionary which essentially captures the spectrum and some other frequency-dependent measures.  Each dictionary element is a vector of length `nfft`."
      ]
    },
    {
      "cell_type": "code",
      "metadata": {
        "id": "bnoZVWAjVX7_",
        "colab_type": "code",
        "colab": {
          "base_uri": "https://localhost:8080/",
          "height": 54
        },
        "outputId": "fc2c1343-e264-4fa2-c7c7-aa88531facc5"
      },
      "source": [
        "lto_file.SpectralData.keys()"
      ],
      "execution_count": 37,
      "outputs": [
        {
          "output_type": "execute_result",
          "data": {
            "text/plain": [
              "dict_keys(['dopfreq', 'rawavepwr', 'rawvarpwr', 'calavepwr', 'flatten', 'tsky', 'fluxden', 'badline', 'HIline'])"
            ]
          },
          "metadata": {
            "tags": []
          },
          "execution_count": 37
        }
      ]
    },
    {
      "cell_type": "code",
      "metadata": {
        "id": "gt-TWlxmVwux",
        "colab_type": "code",
        "colab": {
          "base_uri": "https://localhost:8080/",
          "height": 34
        },
        "outputId": "c374088b-c589-4523-fdfc-86de1da943d8"
      },
      "source": [
        "#type and length of the tsky member of the dictionary\n",
        "n = len(lto_file.SpectralData['tsky'])\n",
        "type(lto_file.SpectralData['tsky']), f'Length: {n}'"
      ],
      "execution_count": 38,
      "outputs": [
        {
          "output_type": "execute_result",
          "data": {
            "text/plain": [
              "(numpy.ndarray, 'Length: 16385')"
            ]
          },
          "metadata": {
            "tags": []
          },
          "execution_count": 38
        }
      ]
    },
    {
      "cell_type": "code",
      "metadata": {
        "id": "SxoumHmr5Xqu",
        "colab_type": "code",
        "colab": {
          "base_uri": "https://localhost:8080/",
          "height": 295
        },
        "outputId": "18772bb2-9ed4-4295-e627-1644f47657bb"
      },
      "source": [
        "plt.plot(lto_file.SpectralData['dopfreq'], lto_file.SpectralData['calavepwr'])\n",
        "plt.xlabel('Dopler Frequency')\n",
        "plt.ylabel('Calibrated Power')\n",
        "zz=plt.title('Spectrum at '+lto_file.get_time().strftime('%Y-%m-%d %H:%M:%S %z'))"
      ],
      "execution_count": 39,
      "outputs": [
        {
          "output_type": "display_data",
          "data": {
            "image/png": "[encoded data removed]",
            "text/plain": [
              "<Figure size 432x288 with 1 Axes>"
            ]
          },
          "metadata": {
            "tags": [],
            "needs_background": "light"
          }
        }
      ]
    },
    {
      "cell_type": "markdown",
      "metadata": {
        "id": "Y2062dJL8TP0",
        "colab_type": "text"
      },
      "source": [
        "Sometimes it's easier to work with a `Pandas` dataframe. The `LTO_File` class provides a method to do so."
      ]
    },
    {
      "cell_type": "code",
      "metadata": {
        "id": "q0qXAPf78f1M",
        "colab_type": "code",
        "colab": {
          "base_uri": "https://localhost:8080/",
          "height": 309
        },
        "outputId": "0a95d99b-b087-4630-e405-e34a6033eed5"
      },
      "source": [
        "import pandas as pd\n",
        "pd_df = lto_file.to_pandas()\n",
        "pd_df.head()"
      ],
      "execution_count": 40,
      "outputs": [
        {
          "output_type": "execute_result",
          "data": {
            "text/html": [
              "<div>\n",
              "<style scoped>\n",
              "    .dataframe tbody tr th:only-of-type {\n",
              "        vertical-align: middle;\n",
              "    }\n",
              "\n",
              "    .dataframe tbody tr th {\n",
              "        vertical-align: top;\n",
              "    }\n",
              "\n",
              "    .dataframe thead th {\n",
              "        text-align: right;\n",
              "    }\n",
              "</style>\n",
              "<table border=\"1\" class=\"dataframe\">\n",
              "  <thead>\n",
              "    <tr style=\"text-align: right;\">\n",
              "      <th></th>\n",
              "      <th>ts</th>\n",
              "      <th>ra</th>\n",
              "      <th>dec</th>\n",
              "      <th>dopfreq</th>\n",
              "      <th>rawavepwr</th>\n",
              "      <th>rawvarpwr</th>\n",
              "      <th>calavepwr</th>\n",
              "      <th>flatten</th>\n",
              "      <th>tsky</th>\n",
              "      <th>fluxden</th>\n",
              "      <th>badline</th>\n",
              "      <th>HIline</th>\n",
              "    </tr>\n",
              "  </thead>\n",
              "  <tbody>\n",
              "    <tr>\n",
              "      <th>0</th>\n",
              "      <td>2018-09-02 17:41:53+00:00</td>\n",
              "      <td>9.463691</td>\n",
              "      <td>-28.649834</td>\n",
              "      <td>-5000000.0</td>\n",
              "      <td>0.000928</td>\n",
              "      <td>8.694844e-07</td>\n",
              "      <td>1.331449e-21</td>\n",
              "      <td>0.869181</td>\n",
              "      <td>96.436501</td>\n",
              "      <td>11782.735352</td>\n",
              "      <td>True</td>\n",
              "      <td>False</td>\n",
              "    </tr>\n",
              "    <tr>\n",
              "      <th>1</th>\n",
              "      <td>2018-09-02 17:41:53+00:00</td>\n",
              "      <td>9.463691</td>\n",
              "      <td>-28.649834</td>\n",
              "      <td>-4999389.5</td>\n",
              "      <td>0.000921</td>\n",
              "      <td>8.584904e-07</td>\n",
              "      <td>1.393561e-21</td>\n",
              "      <td>0.869213</td>\n",
              "      <td>100.935272</td>\n",
              "      <td>12332.401367</td>\n",
              "      <td>True</td>\n",
              "      <td>False</td>\n",
              "    </tr>\n",
              "    <tr>\n",
              "      <th>2</th>\n",
              "      <td>2018-09-02 17:41:53+00:00</td>\n",
              "      <td>9.463691</td>\n",
              "      <td>-28.649834</td>\n",
              "      <td>-4998779.5</td>\n",
              "      <td>0.000934</td>\n",
              "      <td>8.577524e-07</td>\n",
              "      <td>1.329013e-21</td>\n",
              "      <td>0.869245</td>\n",
              "      <td>96.260063</td>\n",
              "      <td>11761.179688</td>\n",
              "      <td>True</td>\n",
              "      <td>False</td>\n",
              "    </tr>\n",
              "    <tr>\n",
              "      <th>3</th>\n",
              "      <td>2018-09-02 17:41:53+00:00</td>\n",
              "      <td>9.463691</td>\n",
              "      <td>-28.649834</td>\n",
              "      <td>-4998169.0</td>\n",
              "      <td>0.000937</td>\n",
              "      <td>8.678040e-07</td>\n",
              "      <td>1.297855e-21</td>\n",
              "      <td>0.869278</td>\n",
              "      <td>94.003265</td>\n",
              "      <td>11485.439453</td>\n",
              "      <td>True</td>\n",
              "      <td>False</td>\n",
              "    </tr>\n",
              "    <tr>\n",
              "      <th>4</th>\n",
              "      <td>2018-09-02 17:41:53+00:00</td>\n",
              "      <td>9.463691</td>\n",
              "      <td>-28.649834</td>\n",
              "      <td>-4997558.5</td>\n",
              "      <td>0.000940</td>\n",
              "      <td>8.779941e-07</td>\n",
              "      <td>1.277373e-21</td>\n",
              "      <td>0.869310</td>\n",
              "      <td>92.519798</td>\n",
              "      <td>11304.188477</td>\n",
              "      <td>True</td>\n",
              "      <td>False</td>\n",
              "    </tr>\n",
              "  </tbody>\n",
              "</table>\n",
              "</div>"
            ],
            "text/plain": [
              "                         ts        ra        dec  ...       fluxden  badline  HIline\n",
              "0 2018-09-02 17:41:53+00:00  9.463691 -28.649834  ...  11782.735352     True   False\n",
              "1 2018-09-02 17:41:53+00:00  9.463691 -28.649834  ...  12332.401367     True   False\n",
              "2 2018-09-02 17:41:53+00:00  9.463691 -28.649834  ...  11761.179688     True   False\n",
              "3 2018-09-02 17:41:53+00:00  9.463691 -28.649834  ...  11485.439453     True   False\n",
              "4 2018-09-02 17:41:53+00:00  9.463691 -28.649834  ...  11304.188477     True   False\n",
              "\n",
              "[5 rows x 12 columns]"
            ]
          },
          "metadata": {
            "tags": []
          },
          "execution_count": 40
        }
      ]
    },
    {
      "cell_type": "markdown",
      "metadata": {
        "id": "STtpmcnaXp6w",
        "colab_type": "text"
      },
      "source": [
        "**TODO:** check out the ra and dec columns above"
      ]
    },
    {
      "cell_type": "markdown",
      "metadata": {
        "id": "zt4aWskA9R1L",
        "colab_type": "text"
      },
      "source": [
        "##Read All LTO Files in a Directory"
      ]
    },
    {
      "cell_type": "markdown",
      "metadata": {
        "id": "vBJrSmwdYLhN",
        "colab_type": "text"
      },
      "source": [
        "`lto_utils` provides functionality to read all `.lto` in a directory. This can useful in summarizing an observing session, such as a drift scan.\n",
        "\n",
        "**Caution:** the methods below will read **all** `.lto` files in the specified directory, so if there are files with duplicate content or `.lto` files from other observing sessions, such files will contaminate the results."
      ]
    },
    {
      "cell_type": "code",
      "metadata": {
        "id": "boJ8OTWwElo5",
        "colab_type": "code",
        "colab": {
          "base_uri": "https://localhost:8080/",
          "height": 34
        },
        "outputId": "2750bd22-a5e1-4906-abd9-d60905bb4a4d"
      },
      "source": [
        "# see the directories of observations:\n",
        "!ls lto_data"
      ],
      "execution_count": 41,
      "outputs": [
        {
          "output_type": "stream",
          "text": [
            "2018_08_30  2018_09_02\n"
          ],
          "name": "stdout"
        }
      ]
    },
    {
      "cell_type": "markdown",
      "metadata": {
        "id": "bhce6Nm5o9qA",
        "colab_type": "text"
      },
      "source": [
        "These are early observations in the LTO Radio Telescope projects. As such, the quality of the data is suspect; however the observations will suffice for demonstration purposes.  Just don't base any science on these!!\n",
        "\n",
        "The 2018_08_30 directory is a 24-hour drift scan, some 1440 files (one for each minute) in all.  The 2018_09_02 observation set is considerably smaller, so we'll demonstrate with it.  Doing so, however will compromise the plots that follow.\n",
        "\n",
        "If you want to see a full 24-hour drift scan, set the scan date to `'2018_08_30'`."
      ]
    },
    {
      "cell_type": "code",
      "metadata": {
        "id": "koLlK1-0lXuZ",
        "colab_type": "code",
        "colab": {}
      },
      "source": [
        "#obs_dir = '/Users/kevin/Documents/LTO Radiometry/HI_Detection/lto_cache'\n",
        "obs_dir = 'lto_data'\n",
        "scan_date = '2018_08_30'"
      ],
      "execution_count": 56,
      "outputs": []
    },
    {
      "cell_type": "code",
      "metadata": {
        "id": "2O_zXQlb9oFA",
        "colab_type": "code",
        "colab": {}
      },
      "source": [
        "#get all the spectral characteristics for the observation of 2018_09_02\n",
        "# this can take a several minutes to run, espcially if the files are not local\n",
        "obs_summary = lto.getSpectralCharacteristics(obs_dir+ '/' +scan_date)"
      ],
      "execution_count": null,
      "outputs": []
    },
    {
      "cell_type": "code",
      "metadata": {
        "id": "HIt8N-iO-yRv",
        "colab_type": "code",
        "colab": {}
      },
      "source": [
        "obs_summary.head()"
      ],
      "execution_count": null,
      "outputs": []
    },
    {
      "cell_type": "code",
      "metadata": {
        "id": "guTX5mCH-0ei",
        "colab_type": "code",
        "colab": {
          "base_uri": "https://localhost:8080/",
          "height": 34
        },
        "outputId": "3fcf51fe-0927-460e-ac94-091faa3ffac4"
      },
      "source": [
        "len(obs_summary)"
      ],
      "execution_count": 46,
      "outputs": [
        {
          "output_type": "execute_result",
          "data": {
            "text/plain": [
              "243"
            ]
          },
          "metadata": {
            "tags": []
          },
          "execution_count": 46
        }
      ]
    },
    {
      "cell_type": "code",
      "metadata": {
        "id": "fpDQERUo-LGx",
        "colab_type": "code",
        "colab": {
          "base_uri": "https://localhost:8080/",
          "height": 347
        },
        "outputId": "2f9f9421-350f-41e2-8b54-46111e8c8ddb"
      },
      "source": [
        "plt.plot(obs_summary.index, obs_summary.avetsky)\n",
        "plt.title(f'Drift Scan Summary, Scan Date: {scan_date}')\n",
        "plt.xlabel('Time (UT)')\n",
        "plt.xticks(rotation=90)\n",
        "plt.ylabel('Average Sky Temp (K)')"
      ],
      "execution_count": 47,
      "outputs": [
        {
          "output_type": "execute_result",
          "data": {
            "text/plain": [
              "Text(0, 0.5, 'Average Sky Temp (K)')"
            ]
          },
          "metadata": {
            "tags": []
          },
          "execution_count": 47
        },
        {
          "output_type": "display_data",
          "data": {
            "image/png": "[encoded data removed]",
            "text/plain": [
              "<Figure size 432x288 with 1 Axes>"
            ]
          },
          "metadata": {
            "tags": [],
            "needs_background": "light"
          }
        }
      ]
    },
    {
      "cell_type": "code",
      "metadata": {
        "id": "Jk8rshL1L4-o",
        "colab_type": "code",
        "colab": {
          "base_uri": "https://localhost:8080/",
          "height": 298
        },
        "outputId": "6af52f3c-5770-461b-8685-d47a2949e2e0"
      },
      "source": [
        "#it's a drift scan so plot by right ascension\n",
        "plt.scatter(obs_summary.ra, obs_summary.avetsky, s=9)\n",
        "plt.title(f'Drift Scan Summary, Scan Date: {scan_date}')\n",
        "plt.xlabel('Right Ascension (deg)')\n",
        "plt.xticks(rotation=90)\n",
        "plt.ylabel('Average Sky Temp (K)')\n",
        "plt.grid()\n",
        "plt.gca().invert_xaxis()"
      ],
      "execution_count": 48,
      "outputs": [
        {
          "output_type": "display_data",
          "data": {
            "image/png": "[encoded data removed]",
            "text/plain": [
              "<Figure size 432x288 with 1 Axes>"
            ]
          },
          "metadata": {
            "tags": [],
            "needs_background": "light"
          }
        }
      ]
    },
    {
      "cell_type": "code",
      "metadata": {
        "id": "Qj_5NUmzAHRY",
        "colab_type": "code",
        "colab": {}
      },
      "source": [
        "#this takes quite a bit of time on goolge, not so much when data is local\n",
        "\n",
        "#get all the spectral data from the drift scan\n",
        "#spectra = lto.getDriftScan(obs_dir+ '/' +scan_date)"
      ],
      "execution_count": null,
      "outputs": []
    },
    {
      "cell_type": "code",
      "metadata": {
        "id": "VoKmaHQZN4ya",
        "colab_type": "code",
        "colab": {
          "base_uri": "https://localhost:8080/",
          "height": 309
        },
        "outputId": "ed46a831-58c5-4254-ab40-6498d3e6d4c3"
      },
      "source": [
        "spectra.head()"
      ],
      "execution_count": null,
      "outputs": [
        {
          "output_type": "execute_result",
          "data": {
            "text/html": [
              "<div>\n",
              "<style scoped>\n",
              "    .dataframe tbody tr th:only-of-type {\n",
              "        vertical-align: middle;\n",
              "    }\n",
              "\n",
              "    .dataframe tbody tr th {\n",
              "        vertical-align: top;\n",
              "    }\n",
              "\n",
              "    .dataframe thead th {\n",
              "        text-align: right;\n",
              "    }\n",
              "</style>\n",
              "<table border=\"1\" class=\"dataframe\">\n",
              "  <thead>\n",
              "    <tr style=\"text-align: right;\">\n",
              "      <th></th>\n",
              "      <th>ts</th>\n",
              "      <th>ra</th>\n",
              "      <th>dec</th>\n",
              "      <th>dopfreq</th>\n",
              "      <th>rawavepwr</th>\n",
              "      <th>rawvarpwr</th>\n",
              "      <th>calavepwr</th>\n",
              "      <th>flatten</th>\n",
              "      <th>tsky</th>\n",
              "      <th>fluxden</th>\n",
              "      <th>badline</th>\n",
              "      <th>HIline</th>\n",
              "    </tr>\n",
              "  </thead>\n",
              "  <tbody>\n",
              "    <tr>\n",
              "      <th>0</th>\n",
              "      <td>2018-09-02 00:03:01+00:00</td>\n",
              "      <td>15.767594</td>\n",
              "      <td>-28.649834</td>\n",
              "      <td>-5000000.0</td>\n",
              "      <td>0.000870</td>\n",
              "      <td>7.603490e-07</td>\n",
              "      <td>1.057410e-21</td>\n",
              "      <td>0.869181</td>\n",
              "      <td>76.587936</td>\n",
              "      <td>9357.613281</td>\n",
              "      <td>True</td>\n",
              "      <td>False</td>\n",
              "    </tr>\n",
              "    <tr>\n",
              "      <th>1</th>\n",
              "      <td>2018-09-02 00:03:01+00:00</td>\n",
              "      <td>15.767594</td>\n",
              "      <td>-28.649834</td>\n",
              "      <td>-4999389.5</td>\n",
              "      <td>0.000887</td>\n",
              "      <td>7.864655e-07</td>\n",
              "      <td>9.077309e-23</td>\n",
              "      <td>0.869213</td>\n",
              "      <td>6.574670</td>\n",
              "      <td>803.301636</td>\n",
              "      <td>True</td>\n",
              "      <td>False</td>\n",
              "    </tr>\n",
              "    <tr>\n",
              "      <th>2</th>\n",
              "      <td>2018-09-02 00:03:01+00:00</td>\n",
              "      <td>15.767594</td>\n",
              "      <td>-28.649834</td>\n",
              "      <td>-4998779.5</td>\n",
              "      <td>0.000887</td>\n",
              "      <td>7.763921e-07</td>\n",
              "      <td>6.609310e-22</td>\n",
              "      <td>0.869245</td>\n",
              "      <td>47.871052</td>\n",
              "      <td>5848.946777</td>\n",
              "      <td>True</td>\n",
              "      <td>False</td>\n",
              "    </tr>\n",
              "    <tr>\n",
              "      <th>3</th>\n",
              "      <td>2018-09-02 00:03:01+00:00</td>\n",
              "      <td>15.767594</td>\n",
              "      <td>-28.649834</td>\n",
              "      <td>-4998169.0</td>\n",
              "      <td>0.000871</td>\n",
              "      <td>7.660552e-07</td>\n",
              "      <td>8.888164e-22</td>\n",
              "      <td>0.869278</td>\n",
              "      <td>64.376732</td>\n",
              "      <td>7865.631836</td>\n",
              "      <td>True</td>\n",
              "      <td>False</td>\n",
              "    </tr>\n",
              "    <tr>\n",
              "      <th>4</th>\n",
              "      <td>2018-09-02 00:03:01+00:00</td>\n",
              "      <td>15.767594</td>\n",
              "      <td>-28.649834</td>\n",
              "      <td>-4997558.5</td>\n",
              "      <td>0.000885</td>\n",
              "      <td>7.746120e-07</td>\n",
              "      <td>1.064691e-21</td>\n",
              "      <td>0.869310</td>\n",
              "      <td>77.115265</td>\n",
              "      <td>9422.042969</td>\n",
              "      <td>True</td>\n",
              "      <td>False</td>\n",
              "    </tr>\n",
              "  </tbody>\n",
              "</table>\n",
              "</div>"
            ],
            "text/plain": [
              "                         ts         ra        dec  ...      fluxden  badline  HIline\n",
              "0 2018-09-02 00:03:01+00:00  15.767594 -28.649834  ...  9357.613281     True   False\n",
              "1 2018-09-02 00:03:01+00:00  15.767594 -28.649834  ...   803.301636     True   False\n",
              "2 2018-09-02 00:03:01+00:00  15.767594 -28.649834  ...  5848.946777     True   False\n",
              "3 2018-09-02 00:03:01+00:00  15.767594 -28.649834  ...  7865.631836     True   False\n",
              "4 2018-09-02 00:03:01+00:00  15.767594 -28.649834  ...  9422.042969     True   False\n",
              "\n",
              "[5 rows x 12 columns]"
            ]
          },
          "metadata": {
            "tags": []
          },
          "execution_count": 38
        }
      ]
    },
    {
      "cell_type": "markdown",
      "metadata": {
        "id": "PXVHVsfNmIGy",
        "colab_type": "text"
      },
      "source": [
        "Yeilds a rather large data frame:"
      ]
    },
    {
      "cell_type": "code",
      "metadata": {
        "id": "ZysVde6HaPYd",
        "colab_type": "code",
        "colab": {
          "base_uri": "https://localhost:8080/",
          "height": 34
        },
        "outputId": "183113d1-35e0-412c-b006-249eeefa2c76"
      },
      "source": [
        "len(spectra)"
      ],
      "execution_count": null,
      "outputs": [
        {
          "output_type": "execute_result",
          "data": {
            "text/plain": [
              "3981555"
            ]
          },
          "metadata": {
            "tags": []
          },
          "execution_count": 39
        }
      ]
    },
    {
      "cell_type": "markdown",
      "metadata": {
        "id": "Xi8nU9z343fl",
        "colab_type": "text"
      },
      "source": [
        "## Construct a Spectrogram"
      ]
    },
    {
      "cell_type": "markdown",
      "metadata": {
        "id": "48wx1rwQcebb",
        "colab_type": "text"
      },
      "source": [
        "The `spectra` data frame from above can be unweildy with 23 million rows, so the `getDriftScan` method provides a `dfclip` parameter to eliminate data at the far ends of the spectrum. If we clip the spectrum, the production of the spectrogram proceeds much faster, because the resulting data set is so much smaller."
      ]
    },
    {
      "cell_type": "code",
      "metadata": {
        "id": "5b7nDYcKdQuA",
        "colab_type": "code",
        "colab": {
          "base_uri": "https://localhost:8080/",
          "height": 34
        },
        "outputId": "94ec47f9-fb61-408c-fa5b-7546e99d4a00"
      },
      "source": [
        "#clip to -300 kHz to 300 kHz\n",
        "spectra = lto.getDriftScan(obs_dir+ '/' +scan_date, dfclip=(-0.3e6, 0.3e6))\n",
        "len(spectra)"
      ],
      "execution_count": 52,
      "outputs": [
        {
          "output_type": "execute_result",
          "data": {
            "text/plain": [
              "238869"
            ]
          },
          "metadata": {
            "tags": []
          },
          "execution_count": 52
        }
      ]
    },
    {
      "cell_type": "code",
      "metadata": {
        "id": "kkSuY5nFN9DE",
        "colab_type": "code",
        "colab": {
          "base_uri": "https://localhost:8080/",
          "height": 34
        },
        "outputId": "7ede7ead-78e8-4f29-cd66-461152d8b94d"
      },
      "source": [
        "#make the temperature array dopfreq x time\n",
        "\n",
        "#sort the spectra data frame\n",
        "spectra.sort_values(['dopfreq', 'ts'], inplace=True)\n",
        "\n",
        "#get the y axis (dopler freq) values:\n",
        "dopfreqs = spectra.dopfreq.unique()\n",
        "\n",
        "# next, get the x-axis which is the time of the observations;\n",
        "obs_times = spectra.ts.unique()\n",
        "\n",
        "#make the temperature array\n",
        "skytemp = np.array(spectra.tsky).reshape(len(dopfreqs), len(obs_times))\n",
        "\n",
        "skytemp.shape"
      ],
      "execution_count": 53,
      "outputs": [
        {
          "output_type": "execute_result",
          "data": {
            "text/plain": [
              "(983, 243)"
            ]
          },
          "metadata": {
            "tags": []
          },
          "execution_count": 53
        }
      ]
    },
    {
      "cell_type": "code",
      "metadata": {
        "id": "Wi234ZkNfeHu",
        "colab_type": "code",
        "colab": {}
      },
      "source": [
        "#helper routine to beautify the time formating:\n",
        "import matplotlib.dates as mdates\n",
        "fmt = mdates.DateFormatter('%H:%M')\n",
        "\n",
        "#for the normalizer:\n",
        "import matplotlib.colors as colors\n",
        "\n"
      ],
      "execution_count": 54,
      "outputs": []
    },
    {
      "cell_type": "code",
      "metadata": {
        "id": "70J4Lv0g6FKS",
        "colab_type": "code",
        "colab": {
          "base_uri": "https://localhost:8080/",
          "height": 425
        },
        "outputId": "6e7d085c-92ff-43e0-843c-084b14b2d5aa"
      },
      "source": [
        "fig = plt.figure(figsize=(12,6))\n",
        "ax = fig.add_subplot()\n",
        "\n",
        "pcm = ax.pcolormesh(obs_times, dopfreqs, skytemp,cmap='gnuplot',\n",
        "                norm=colors.LogNorm())\n",
        "                   #norm=colors.PowerNorm(gamma=1./2.))\n",
        "fig.colorbar(pcm, label='Sky Temp (K)')\n",
        "\n",
        "plt.xlabel('Time (UT)')\n",
        "plt.gca().xaxis.set_major_formatter(fmt)\n",
        "plt.xticks(rotation=90)\n",
        "plt.ylabel('Dopler Shift (kHz)')\n",
        "plt.title(f'LTO Driftscan of {scan_date}',fontdict={'fontsize':16, 'fontweight':'bold'})\n",
        "plt.grid()"
      ],
      "execution_count": 55,
      "outputs": [
        {
          "output_type": "display_data",
          "data": {
            "image/png": "[encoded data removed]",
            "text/plain": [
              "<Figure size 864x432 with 2 Axes>"
            ]
          },
          "metadata": {
            "tags": [],
            "needs_background": "light"
          }
        }
      ]
    }
  ]
}