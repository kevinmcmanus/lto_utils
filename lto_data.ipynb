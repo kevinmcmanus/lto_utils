{
  "nbformat": 4,
  "nbformat_minor": 0,
  "metadata": {
    "colab": {
      "name": "lto_data.ipynb",
      "provenance": [],
      "toc_visible": true,
      "authorship_tag": "ABX9TyOzjSc3SfYXvtV+skv91qNB",
      "include_colab_link": true
    },
    "kernelspec": {
      "name": "python3",
      "display_name": "Python 3"
    }
  },
  "cells": [
    {
      "cell_type": "markdown",
      "metadata": {
        "id": "view-in-github",
        "colab_type": "text"
      },
      "source": [
        "<a href=\"https://colab.research.google.com/github/kevinmcmanus/lto_utils/blob/master/lto_data.ipynb\" target=\"_parent\"><img src=\"https://colab.research.google.com/assets/colab-badge.svg\" alt=\"Open In Colab\"/></a>"
      ]
    },
    {
      "cell_type": "markdown",
      "metadata": {
        "id": "Apn0zMs9QY2v",
        "colab_type": "text"
      },
      "source": [
        "# LTO Utilities Library"
      ]
    },
    {
      "cell_type": "markdown",
      "metadata": {
        "id": "bX344M-tQnQ4",
        "colab_type": "text"
      },
      "source": [
        "The LTO Utilities library provides a set of useful functions for dealing with files output from the Little Thompson Observatory's radio telescope. These files, suffixed with '.lto' capture spectral information and the data processing pipeline produces them at approximately one-minute intervals throughout an observation.\n",
        "\n",
        "For the purposes of this demo, a 24-hour drift scan observation is available in Google Cloud Storage.  Having the data in GCS complicates this demo somewhat in that the Google Colab virtual machine that is running this notebook needs to mount the GCS as a preliminary step.\n",
        "The actual demonstration of obtaining and using the `lto_utils` library begins in the section entitled 'Clone the lto_utils' repo."
      ]
    },
    {
      "cell_type": "markdown",
      "metadata": {
        "id": "8WapFl0zTWf-",
        "colab_type": "text"
      },
      "source": [
        "## Preliminaries"
      ]
    },
    {
      "cell_type": "markdown",
      "metadata": {
        "id": "YNxuMpwmB9ba",
        "colab_type": "text"
      },
      "source": [
        "### References on Using Cloud Storage in Colab"
      ]
    },
    {
      "cell_type": "markdown",
      "metadata": {
        "id": "K4CVm6sAuU1v",
        "colab_type": "text"
      },
      "source": [
        "These articles explain how to make Google Cloud Storage availabale within a Google Colab notebook, such as this one.\n",
        "\n",
        "(https://medium.com/analytics-vidhya/how-to-access-files-from-google-cloud-storage-in-colab-notebooks-8edaf9e6c020)\n",
        "\n",
        "(https://stackoverflow.com/questions/51715268/how-to-import-data-from-google-cloud-storage-to-google-colab)\n",
        "\n",
        "(https://ostrokach.gitlab.io/post/google-colab-storage/)"
      ]
    },
    {
      "cell_type": "markdown",
      "metadata": {
        "id": "CCYrwRu93ESO",
        "colab_type": "text"
      },
      "source": [
        "### Authenticate and Mount GCS Bucket"
      ]
    },
    {
      "cell_type": "code",
      "metadata": {
        "id": "zmj1xAxhooC_",
        "colab_type": "code",
        "colab": {}
      },
      "source": [
        "from google.colab import auth\n",
        "\n",
        "auth.authenticate_user()"
      ],
      "execution_count": 1,
      "outputs": []
    },
    {
      "cell_type": "code",
      "metadata": {
        "id": "gaybdAkUqRdK",
        "colab_type": "code",
        "colab": {
          "base_uri": "https://localhost:8080/",
          "height": 323
        },
        "outputId": "844e4727-5e42-4ab9-a0ff-4d2b1dd396dd"
      },
      "source": [
        "!echo \"deb http://packages.cloud.google.com/apt gcsfuse-bionic main\" > /etc/apt/sources.list.d/gcsfuse.list\n",
        "!curl https://packages.cloud.google.com/apt/doc/apt-key.gpg | apt-key add -\n",
        "!apt -qq update\n",
        "!apt -qq install gcsfuse"
      ],
      "execution_count": 2,
      "outputs": [
        {
          "output_type": "stream",
          "text": [
            "  % Total    % Received % Xferd  Average Speed   Time    Time     Time  Current\n",
            "                                 Dload  Upload   Total   Spent    Left  Speed\n",
            "\r  0     0    0     0    0     0      0      0 --:--:-- --:--:-- --:--:--     0\r100   653  100   653    0     0  18657      0 --:--:-- --:--:-- --:--:-- 18657\n",
            "OK\n",
            "54 packages can be upgraded. Run 'apt list --upgradable' to see them.\n",
            "The following package was automatically installed and is no longer required:\n",
            "  libnvidia-common-440\n",
            "Use 'apt autoremove' to remove it.\n",
            "The following NEW packages will be installed:\n",
            "  gcsfuse\n",
            "0 upgraded, 1 newly installed, 0 to remove and 54 not upgraded.\n",
            "Need to get 4,278 kB of archives.\n",
            "After this operation, 12.8 MB of additional disk space will be used.\n",
            "Selecting previously unselected package gcsfuse.\n",
            "(Reading database ... 144487 files and directories currently installed.)\n",
            "Preparing to unpack .../gcsfuse_0.30.0_amd64.deb ...\n",
            "Unpacking gcsfuse (0.30.0) ...\n",
            "Setting up gcsfuse (0.30.0) ...\n"
          ],
          "name": "stdout"
        }
      ]
    },
    {
      "cell_type": "code",
      "metadata": {
        "id": "kIp99n9w16jC",
        "colab_type": "code",
        "colab": {
          "base_uri": "https://localhost:8080/",
          "height": 102
        },
        "outputId": "df7a7e37-3c46-4592-cd37-4e04f8f07f1b"
      },
      "source": [
        "#Mount the drive\n",
        "!mkdir lto_data\n",
        "!gcsfuse --implicit-dirs --limit-bytes-per-sec -1 --limit-ops-per-sec -1 lto_data lto_data"
      ],
      "execution_count": 3,
      "outputs": [
        {
          "output_type": "stream",
          "text": [
            "Using mount point: /content/lto_data\n",
            "Opening GCS connection...\n",
            "Opening bucket...\n",
            "Mounting file system...\n",
            "File system has been successfully mounted.\n"
          ],
          "name": "stdout"
        }
      ]
    },
    {
      "cell_type": "code",
      "metadata": {
        "id": "oDjKuzUQovOK",
        "colab_type": "code",
        "colab": {}
      },
      "source": [
        "#to mount your own google drive, do this:\n",
        "#drive.mount('/content/drive')"
      ],
      "execution_count": 37,
      "outputs": []
    },
    {
      "cell_type": "markdown",
      "metadata": {
        "id": "uSS5amXO3kSA",
        "colab_type": "text"
      },
      "source": [
        "## Clone the lto_utils Repo"
      ]
    },
    {
      "cell_type": "code",
      "metadata": {
        "id": "uDtC6puZv7KZ",
        "colab_type": "code",
        "colab": {
          "base_uri": "https://localhost:8080/",
          "height": 119
        },
        "outputId": "9a4b828d-6534-4516-bac5-01d9479a330d"
      },
      "source": [
        "!git clone https://github.com/kevinmcmanus/lto_utils"
      ],
      "execution_count": 4,
      "outputs": [
        {
          "output_type": "stream",
          "text": [
            "Cloning into 'lto_utils'...\n",
            "remote: Enumerating objects: 34, done.\u001b[K\n",
            "remote: Counting objects:   2% (1/34)\u001b[K\rremote: Counting objects:   5% (2/34)\u001b[K\rremote: Counting objects:   8% (3/34)\u001b[K\rremote: Counting objects:  11% (4/34)\u001b[K\rremote: Counting objects:  14% (5/34)\u001b[K\rremote: Counting objects:  17% (6/34)\u001b[K\rremote: Counting objects:  20% (7/34)\u001b[K\rremote: Counting objects:  23% (8/34)\u001b[K\rremote: Counting objects:  26% (9/34)\u001b[K\rremote: Counting objects:  29% (10/34)\u001b[K\rremote: Counting objects:  32% (11/34)\u001b[K\rremote: Counting objects:  35% (12/34)\u001b[K\rremote: Counting objects:  38% (13/34)\u001b[K\rremote: Counting objects:  41% (14/34)\u001b[K\rremote: Counting objects:  44% (15/34)\u001b[K\rremote: Counting objects:  47% (16/34)\u001b[K\rremote: Counting objects:  50% (17/34)\u001b[K\rremote: Counting objects:  52% (18/34)\u001b[K\rremote: Counting objects:  55% (19/34)\u001b[K\rremote: Counting objects:  58% (20/34)\u001b[K\rremote: Counting objects:  61% (21/34)\u001b[K\rremote: Counting objects:  64% (22/34)\u001b[K\rremote: Counting objects:  67% (23/34)\u001b[K\rremote: Counting objects:  70% (24/34)\u001b[K\rremote: Counting objects:  73% (25/34)\u001b[K\rremote: Counting objects:  76% (26/34)\u001b[K\rremote: Counting objects:  79% (27/34)\u001b[K\rremote: Counting objects:  82% (28/34)\u001b[K\rremote: Counting objects:  85% (29/34)\u001b[K\rremote: Counting objects:  88% (30/34)\u001b[K\rremote: Counting objects:  91% (31/34)\u001b[K\rremote: Counting objects:  94% (32/34)\u001b[K\rremote: Counting objects:  97% (33/34)\u001b[K\rremote: Counting objects: 100% (34/34)\u001b[K\rremote: Counting objects: 100% (34/34), done.\u001b[K\n",
            "remote: Compressing objects:   4% (1/24)\u001b[K\rremote: Compressing objects:   8% (2/24)\u001b[K\rremote: Compressing objects:  12% (3/24)\u001b[K\rremote: Compressing objects:  16% (4/24)\u001b[K\rremote: Compressing objects:  20% (5/24)\u001b[K\rremote: Compressing objects:  25% (6/24)\u001b[K\rremote: Compressing objects:  29% (7/24)\u001b[K\rremote: Compressing objects:  33% (8/24)\u001b[K\rremote: Compressing objects:  37% (9/24)\u001b[K\rremote: Compressing objects:  41% (10/24)\u001b[K\rremote: Compressing objects:  45% (11/24)\u001b[K\rremote: Compressing objects:  50% (12/24)\u001b[K\rremote: Compressing objects:  54% (13/24)\u001b[K\rremote: Compressing objects:  58% (14/24)\u001b[K\rremote: Compressing objects:  62% (15/24)\u001b[K\rremote: Compressing objects:  66% (16/24)\u001b[K\rremote: Compressing objects:  70% (17/24)\u001b[K\rremote: Compressing objects:  75% (18/24)\u001b[K\rremote: Compressing objects:  79% (19/24)\u001b[K\rremote: Compressing objects:  83% (20/24)\u001b[K\rremote: Compressing objects:  87% (21/24)\u001b[K\rremote: Compressing objects:  91% (22/24)\u001b[K\rremote: Compressing objects:  95% (23/24)\u001b[K\rremote: Compressing objects: 100% (24/24)\u001b[K\rremote: Compressing objects: 100% (24/24), done.\u001b[K\n",
            "Unpacking objects:   2% (1/34)   \rUnpacking objects:   5% (2/34)   \rUnpacking objects:   8% (3/34)   \rUnpacking objects:  11% (4/34)   \rUnpacking objects:  14% (5/34)   \rUnpacking objects:  17% (6/34)   \rUnpacking objects:  20% (7/34)   \rUnpacking objects:  23% (8/34)   \rUnpacking objects:  26% (9/34)   \rUnpacking objects:  29% (10/34)   \rUnpacking objects:  32% (11/34)   \rUnpacking objects:  35% (12/34)   \rUnpacking objects:  38% (13/34)   \rUnpacking objects:  41% (14/34)   \rremote: Total 34 (delta 9), reused 23 (delta 6), pack-reused 0\u001b[K\n",
            "Unpacking objects:  44% (15/34)   \rUnpacking objects:  47% (16/34)   \rUnpacking objects:  50% (17/34)   \rUnpacking objects:  52% (18/34)   \rUnpacking objects:  55% (19/34)   \rUnpacking objects:  58% (20/34)   \rUnpacking objects:  61% (21/34)   \rUnpacking objects:  64% (22/34)   \rUnpacking objects:  67% (23/34)   \rUnpacking objects:  70% (24/34)   \rUnpacking objects:  73% (25/34)   \rUnpacking objects:  76% (26/34)   \rUnpacking objects:  79% (27/34)   \rUnpacking objects:  82% (28/34)   \rUnpacking objects:  85% (29/34)   \rUnpacking objects:  88% (30/34)   \rUnpacking objects:  91% (31/34)   \rUnpacking objects:  94% (32/34)   \rUnpacking objects:  97% (33/34)   \rUnpacking objects: 100% (34/34)   \rUnpacking objects: 100% (34/34), done.\n"
          ],
          "name": "stdout"
        }
      ]
    },
    {
      "cell_type": "code",
      "metadata": {
        "id": "nsSP0NYwwKwh",
        "colab_type": "code",
        "colab": {}
      },
      "source": [
        "import sys\n",
        "sys.path.append('lto_utils')"
      ],
      "execution_count": 5,
      "outputs": []
    },
    {
      "cell_type": "code",
      "metadata": {
        "id": "j_8kTKpxwjtJ",
        "colab_type": "code",
        "colab": {}
      },
      "source": [
        "import lto_utils.lto_file as lto"
      ],
      "execution_count": 6,
      "outputs": []
    },
    {
      "cell_type": "code",
      "metadata": {
        "id": "e5axO4LHXGKX",
        "colab_type": "code",
        "colab": {}
      },
      "source": [
        "import numpy as np\n",
        "import pandas as pd\n",
        "import matplotlib.pyplot as plt\n",
        "%matplotlib inline"
      ],
      "execution_count": 7,
      "outputs": []
    },
    {
      "cell_type": "markdown",
      "metadata": {
        "id": "ILwzuvxr33Du",
        "colab_type": "text"
      },
      "source": [
        "## Read Single LTO File and Examine its Contents"
      ]
    },
    {
      "cell_type": "code",
      "metadata": {
        "id": "Pt8V5ZXxyROo",
        "colab_type": "code",
        "colab": {}
      },
      "source": [
        "#set the path to the object\n",
        "path = 'lto_data/2018_09_02/LTO-HI-2018-09-02-17-41-53.lto'\n",
        "\n",
        "#create an LTO_File object\n",
        "lto_file = lto.LTO_File(path)\n"
      ],
      "execution_count": 9,
      "outputs": []
    },
    {
      "cell_type": "markdown",
      "metadata": {
        "id": "b9jb-__ZUvEc",
        "colab_type": "text"
      },
      "source": [
        "`lto_file` object contains two attributes: `SpectralHeader` and `SpectralData`. Both are large data structures. The `SpectralHeader` has several subsections which are:"
      ]
    },
    {
      "cell_type": "code",
      "metadata": {
        "id": "MprZi3yXU5MX",
        "colab_type": "code",
        "colab": {
          "base_uri": "https://localhost:8080/",
          "height": 54
        },
        "outputId": "512ae7c9-99b0-4f66-e39f-7fea995fcd7d"
      },
      "source": [
        "lto_file.SpectralHeader.keys()"
      ],
      "execution_count": 10,
      "outputs": [
        {
          "output_type": "execute_result",
          "data": {
            "text/plain": [
              "dict_keys(['Magic', 'Observatory', 'ObsLocation', 'BeamPosition', 'ObsTime', 'Spectrum', 'RadioCalibrations', 'ProgramControl', 'SpectralCharacteristics'])"
            ]
          },
          "metadata": {
            "tags": []
          },
          "execution_count": 10
        }
      ]
    },
    {
      "cell_type": "markdown",
      "metadata": {
        "id": "NvVLpWOi4Y6y",
        "colab_type": "text"
      },
      "source": [
        " \n",
        "The subsection `SpectralCharacteristics`  contains summary information of the file. \n",
        " This subsection is particularly useful."
      ]
    },
    {
      "cell_type": "code",
      "metadata": {
        "id": "mjADjPid4KyQ",
        "colab_type": "code",
        "colab": {
          "base_uri": "https://localhost:8080/",
          "height": 459
        },
        "outputId": "2b12f875-5aaf-469e-e244-8b0378acc5e2"
      },
      "source": [
        "lto_file.SpectralHeader['SpectralCharacteristics']"
      ],
      "execution_count": 11,
      "outputs": [
        {
          "output_type": "execute_result",
          "data": {
            "text/plain": [
              "{'avecrpwr': 1.5366042412277951e-21,\n",
              " 'avefluxden': 13615.77330290577,\n",
              " 'aveindvpwr': 0.0011540943523868918,\n",
              " 'avespecpwr': 1.5385824373105864e-21,\n",
              " 'avetsky': 111.4391098022461,\n",
              " 'badspec': False,\n",
              " 'numHIpwr': 326,\n",
              " 'numave': 30112,\n",
              " 'numbad': 0,\n",
              " 'numcrpwr': 9421,\n",
              " 'numspecpwr': 9747,\n",
              " 'peakfluxden': 14932.340501863842,\n",
              " 'peakfluxfreq': 1420362741.2578125,\n",
              " 'peakpwr': 1.687354543606019e-21,\n",
              " 'peakpwrfreq': 1420362741.2578125,\n",
              " 'peaktsky': 122.21463458389968,\n",
              " 'peaktskyfreq': 1420362741.2578125,\n",
              " 'processing': 'Raw FFT',\n",
              " 'totalHIpwr': 5.202144598592639e-19,\n",
              " 'totalpwr': 1.4996563016466322e-17,\n",
              " 'user': '',\n",
              " 'varcrpwr': 5.002585095470724e-47,\n",
              " 'varfluxden': 0.0,\n",
              " 'varindvpwr': 1.4415335591877465e-10,\n",
              " 'varspecpwr': 1.9838309232567554e-46,\n",
              " 'vartsky': 0.0}"
            ]
          },
          "metadata": {
            "tags": []
          },
          "execution_count": 11
        }
      ]
    },
    {
      "cell_type": "markdown",
      "metadata": {
        "id": "43Pz-YXr5C-w",
        "colab_type": "text"
      },
      "source": [
        "`SpectralData` is a  dictionary which essentially captures the spectrum and some other frequency-dependent measures.  Each dictionary element is a vector of length `nfft`."
      ]
    },
    {
      "cell_type": "code",
      "metadata": {
        "id": "bnoZVWAjVX7_",
        "colab_type": "code",
        "colab": {
          "base_uri": "https://localhost:8080/",
          "height": 54
        },
        "outputId": "fdd9ffd4-c534-4ad4-a028-165a02479b65"
      },
      "source": [
        "lto_file.SpectralData.keys()"
      ],
      "execution_count": 12,
      "outputs": [
        {
          "output_type": "execute_result",
          "data": {
            "text/plain": [
              "dict_keys(['dopfreq', 'rawavepwr', 'rawvarpwr', 'calavepwr', 'flatten', 'tsky', 'fluxden', 'badline', 'HIline'])"
            ]
          },
          "metadata": {
            "tags": []
          },
          "execution_count": 12
        }
      ]
    },
    {
      "cell_type": "code",
      "metadata": {
        "id": "gt-TWlxmVwux",
        "colab_type": "code",
        "colab": {
          "base_uri": "https://localhost:8080/",
          "height": 34
        },
        "outputId": "70841d91-6ab2-48ec-fd87-31525a28fad1"
      },
      "source": [
        "#type and length of the tsky member of the dictionary\n",
        "n = len(lto_file.SpectralData['tsky'])\n",
        "type(lto_file.SpectralData['tsky']), f'Length: {n}'"
      ],
      "execution_count": 13,
      "outputs": [
        {
          "output_type": "execute_result",
          "data": {
            "text/plain": [
              "(numpy.ndarray, 'Length: 16385')"
            ]
          },
          "metadata": {
            "tags": []
          },
          "execution_count": 13
        }
      ]
    },
    {
      "cell_type": "code",
      "metadata": {
        "id": "SxoumHmr5Xqu",
        "colab_type": "code",
        "colab": {
          "base_uri": "https://localhost:8080/",
          "height": 295
        },
        "outputId": "a440708a-7e1c-46de-f1c9-710ab5cfb5d2"
      },
      "source": [
        "plt.plot(lto_file.SpectralData['dopfreq'], lto_file.SpectralData['calavepwr'])\n",
        "plt.xlabel('Dopler Frequency')\n",
        "plt.ylabel('Calibrated Power')\n",
        "zz=plt.title('Spectrum at '+lto_file.get_time().strftime('%Y-%m-%d %H:%M:%S %z'))"
      ],
      "execution_count": 14,
      "outputs": [
        {
          "output_type": "display_data",
          "data": {
            "image/png": "[encoded data removed]",
            "text/plain": [
              "<Figure size 432x288 with 1 Axes>"
            ]
          },
          "metadata": {
            "tags": [],
            "needs_background": "light"
          }
        }
      ]
    },
    {
      "cell_type": "markdown",
      "metadata": {
        "id": "Y2062dJL8TP0",
        "colab_type": "text"
      },
      "source": [
        "Sometimes it's easier to work with a `Pandas` dataframe. The `LTO_File` class provides a method to do so."
      ]
    },
    {
      "cell_type": "code",
      "metadata": {
        "id": "q0qXAPf78f1M",
        "colab_type": "code",
        "colab": {
          "base_uri": "https://localhost:8080/",
          "height": 309
        },
        "outputId": "0b9d9662-78b1-493e-da68-14021ba7b975"
      },
      "source": [
        "import pandas as pd\n",
        "pd_df = lto_file.to_pandas()\n",
        "pd_df.head()"
      ],
      "execution_count": 15,
      "outputs": [
        {
          "output_type": "execute_result",
          "data": {
            "text/html": [
              "<div>\n",
              "<style scoped>\n",
              "    .dataframe tbody tr th:only-of-type {\n",
              "        vertical-align: middle;\n",
              "    }\n",
              "\n",
              "    .dataframe tbody tr th {\n",
              "        vertical-align: top;\n",
              "    }\n",
              "\n",
              "    .dataframe thead th {\n",
              "        text-align: right;\n",
              "    }\n",
              "</style>\n",
              "<table border=\"1\" class=\"dataframe\">\n",
              "  <thead>\n",
              "    <tr style=\"text-align: right;\">\n",
              "      <th></th>\n",
              "      <th>ts</th>\n",
              "      <th>ra</th>\n",
              "      <th>dec</th>\n",
              "      <th>dopfreq</th>\n",
              "      <th>rawavepwr</th>\n",
              "      <th>rawvarpwr</th>\n",
              "      <th>calavepwr</th>\n",
              "      <th>flatten</th>\n",
              "      <th>tsky</th>\n",
              "      <th>fluxden</th>\n",
              "      <th>badline</th>\n",
              "      <th>HIline</th>\n",
              "    </tr>\n",
              "  </thead>\n",
              "  <tbody>\n",
              "    <tr>\n",
              "      <th>0</th>\n",
              "      <td>2018-09-02 17:41:53+00:00</td>\n",
              "      <td>9.463691</td>\n",
              "      <td>-28.649834</td>\n",
              "      <td>-5000000.0</td>\n",
              "      <td>0.000928</td>\n",
              "      <td>8.694844e-07</td>\n",
              "      <td>1.331449e-21</td>\n",
              "      <td>0.869181</td>\n",
              "      <td>96.436501</td>\n",
              "      <td>11782.735352</td>\n",
              "      <td>True</td>\n",
              "      <td>False</td>\n",
              "    </tr>\n",
              "    <tr>\n",
              "      <th>1</th>\n",
              "      <td>2018-09-02 17:41:53+00:00</td>\n",
              "      <td>9.463691</td>\n",
              "      <td>-28.649834</td>\n",
              "      <td>-4999389.5</td>\n",
              "      <td>0.000921</td>\n",
              "      <td>8.584904e-07</td>\n",
              "      <td>1.393561e-21</td>\n",
              "      <td>0.869213</td>\n",
              "      <td>100.935272</td>\n",
              "      <td>12332.401367</td>\n",
              "      <td>True</td>\n",
              "      <td>False</td>\n",
              "    </tr>\n",
              "    <tr>\n",
              "      <th>2</th>\n",
              "      <td>2018-09-02 17:41:53+00:00</td>\n",
              "      <td>9.463691</td>\n",
              "      <td>-28.649834</td>\n",
              "      <td>-4998779.5</td>\n",
              "      <td>0.000934</td>\n",
              "      <td>8.577524e-07</td>\n",
              "      <td>1.329013e-21</td>\n",
              "      <td>0.869245</td>\n",
              "      <td>96.260063</td>\n",
              "      <td>11761.179688</td>\n",
              "      <td>True</td>\n",
              "      <td>False</td>\n",
              "    </tr>\n",
              "    <tr>\n",
              "      <th>3</th>\n",
              "      <td>2018-09-02 17:41:53+00:00</td>\n",
              "      <td>9.463691</td>\n",
              "      <td>-28.649834</td>\n",
              "      <td>-4998169.0</td>\n",
              "      <td>0.000937</td>\n",
              "      <td>8.678040e-07</td>\n",
              "      <td>1.297855e-21</td>\n",
              "      <td>0.869278</td>\n",
              "      <td>94.003265</td>\n",
              "      <td>11485.439453</td>\n",
              "      <td>True</td>\n",
              "      <td>False</td>\n",
              "    </tr>\n",
              "    <tr>\n",
              "      <th>4</th>\n",
              "      <td>2018-09-02 17:41:53+00:00</td>\n",
              "      <td>9.463691</td>\n",
              "      <td>-28.649834</td>\n",
              "      <td>-4997558.5</td>\n",
              "      <td>0.000940</td>\n",
              "      <td>8.779941e-07</td>\n",
              "      <td>1.277373e-21</td>\n",
              "      <td>0.869310</td>\n",
              "      <td>92.519798</td>\n",
              "      <td>11304.188477</td>\n",
              "      <td>True</td>\n",
              "      <td>False</td>\n",
              "    </tr>\n",
              "  </tbody>\n",
              "</table>\n",
              "</div>"
            ],
            "text/plain": [
              "                         ts        ra        dec  ...       fluxden  badline  HIline\n",
              "0 2018-09-02 17:41:53+00:00  9.463691 -28.649834  ...  11782.735352     True   False\n",
              "1 2018-09-02 17:41:53+00:00  9.463691 -28.649834  ...  12332.401367     True   False\n",
              "2 2018-09-02 17:41:53+00:00  9.463691 -28.649834  ...  11761.179688     True   False\n",
              "3 2018-09-02 17:41:53+00:00  9.463691 -28.649834  ...  11485.439453     True   False\n",
              "4 2018-09-02 17:41:53+00:00  9.463691 -28.649834  ...  11304.188477     True   False\n",
              "\n",
              "[5 rows x 12 columns]"
            ]
          },
          "metadata": {
            "tags": []
          },
          "execution_count": 15
        }
      ]
    },
    {
      "cell_type": "markdown",
      "metadata": {
        "id": "STtpmcnaXp6w",
        "colab_type": "text"
      },
      "source": [
        "**TODO:** check out the ra and dec columns above"
      ]
    },
    {
      "cell_type": "markdown",
      "metadata": {
        "id": "zt4aWskA9R1L",
        "colab_type": "text"
      },
      "source": [
        "##Read All LTO Files in a Directory"
      ]
    },
    {
      "cell_type": "markdown",
      "metadata": {
        "id": "vBJrSmwdYLhN",
        "colab_type": "text"
      },
      "source": [
        "`lto_utils` provides functionality to read all `.lto` in a directory. This can useful in summarizing an observing session, such as a drift scan.\n",
        "\n",
        "**Caution:** the methods below will read **all** `.lto` files in the specified directory, so if there are files with duplicate content or `.lto` files from other observing sessions, such files will contaminate the results."
      ]
    },
    {
      "cell_type": "code",
      "metadata": {
        "id": "boJ8OTWwElo5",
        "colab_type": "code",
        "colab": {
          "base_uri": "https://localhost:8080/",
          "height": 34
        },
        "outputId": "7b8586d0-65c7-4efb-d243-724929a76b23"
      },
      "source": [
        "# see the directories of observations:\n",
        "!ls lto_data"
      ],
      "execution_count": 16,
      "outputs": [
        {
          "output_type": "stream",
          "text": [
            "2018_08_30  2018_09_02\n"
          ],
          "name": "stdout"
        }
      ]
    },
    {
      "cell_type": "markdown",
      "metadata": {
        "id": "bhce6Nm5o9qA",
        "colab_type": "text"
      },
      "source": [
        "These are early observations in the LTO Radio Telescope projects. As such, the quality of the data is suspect; however the observations will suffice for demonstration purposes.  Just don't base any science on these!!\n",
        "\n",
        "The 2018_08_30 directory is a 24-hour drift scan, some 1440 files (one for each minute) in all.  The 2018_09_02 observation set is considerably smaller, so we'll demonstrate with it.  Doing so, however will compromise the plots that follow.\n",
        "\n",
        "If you want to see a full 24-hour drift scan, set the scan date to `'2018_08_30'`."
      ]
    },
    {
      "cell_type": "code",
      "metadata": {
        "id": "koLlK1-0lXuZ",
        "colab_type": "code",
        "colab": {}
      },
      "source": [
        "scan_date = '2018_09_02'"
      ],
      "execution_count": 30,
      "outputs": []
    },
    {
      "cell_type": "code",
      "metadata": {
        "id": "2O_zXQlb9oFA",
        "colab_type": "code",
        "colab": {}
      },
      "source": [
        "#get all the spectral characteristics for the observation of 2018_09_02\n",
        "# this can take a several minutes to run, espcially if the files are not local\n",
        "obs_summary = lto.getSpectralCharacteristics('lto_data/'+scan_date)"
      ],
      "execution_count": 31,
      "outputs": []
    },
    {
      "cell_type": "code",
      "metadata": {
        "id": "HIt8N-iO-yRv",
        "colab_type": "code",
        "colab": {
          "base_uri": "https://localhost:8080/",
          "height": 309
        },
        "outputId": "79a2a2db-71de-4f55-941a-6ce1b70cceae"
      },
      "source": [
        "obs_summary.head()"
      ],
      "execution_count": 32,
      "outputs": [
        {
          "output_type": "execute_result",
          "data": {
            "text/html": [
              "<div>\n",
              "<style scoped>\n",
              "    .dataframe tbody tr th:only-of-type {\n",
              "        vertical-align: middle;\n",
              "    }\n",
              "\n",
              "    .dataframe tbody tr th {\n",
              "        vertical-align: top;\n",
              "    }\n",
              "\n",
              "    .dataframe thead th {\n",
              "        text-align: right;\n",
              "    }\n",
              "</style>\n",
              "<table border=\"1\" class=\"dataframe\">\n",
              "  <thead>\n",
              "    <tr style=\"text-align: right;\">\n",
              "      <th></th>\n",
              "      <th>ra</th>\n",
              "      <th>dec</th>\n",
              "      <th>avespecpwr</th>\n",
              "      <th>varspecpwr</th>\n",
              "      <th>totalpwr</th>\n",
              "      <th>numspecpwr</th>\n",
              "      <th>numave</th>\n",
              "      <th>numbad</th>\n",
              "      <th>aveindvpwr</th>\n",
              "      <th>varindvpwr</th>\n",
              "      <th>peakpwr</th>\n",
              "      <th>peakpwrfreq</th>\n",
              "      <th>totalHIpwr</th>\n",
              "      <th>numHIpwr</th>\n",
              "      <th>avecrpwr</th>\n",
              "      <th>varcrpwr</th>\n",
              "      <th>numcrpwr</th>\n",
              "      <th>avetsky</th>\n",
              "      <th>vartsky</th>\n",
              "      <th>peaktsky</th>\n",
              "      <th>peaktskyfreq</th>\n",
              "      <th>avefluxden</th>\n",
              "      <th>varfluxden</th>\n",
              "      <th>peakfluxden</th>\n",
              "      <th>peakfluxfreq</th>\n",
              "      <th>badspec</th>\n",
              "      <th>processing</th>\n",
              "      <th>user</th>\n",
              "    </tr>\n",
              "  </thead>\n",
              "  <tbody>\n",
              "    <tr>\n",
              "      <th>2018-09-02 00:03:01+00:00</th>\n",
              "      <td>15.767594</td>\n",
              "      <td>-28.649834</td>\n",
              "      <td>1.445916e-21</td>\n",
              "      <td>1.529691e-46</td>\n",
              "      <td>1.409479e-17</td>\n",
              "      <td>9748</td>\n",
              "      <td>30128</td>\n",
              "      <td>0</td>\n",
              "      <td>0.001084</td>\n",
              "      <td>1.340576e-10</td>\n",
              "      <td>1.579180e-21</td>\n",
              "      <td>1.420298e+09</td>\n",
              "      <td>4.890799e-19</td>\n",
              "      <td>327</td>\n",
              "      <td>1.444190e-21</td>\n",
              "      <td>2.744975e-47</td>\n",
              "      <td>9421</td>\n",
              "      <td>104.727325</td>\n",
              "      <td>0.0</td>\n",
              "      <td>114.379551</td>\n",
              "      <td>1.420298e+09</td>\n",
              "      <td>12795.718944</td>\n",
              "      <td>0.0</td>\n",
              "      <td>13975.040754</td>\n",
              "      <td>1.420298e+09</td>\n",
              "      <td>False</td>\n",
              "      <td>Raw FFT</td>\n",
              "      <td></td>\n",
              "    </tr>\n",
              "    <tr>\n",
              "      <th>2018-09-02 00:05:01+00:00</th>\n",
              "      <td>15.801020</td>\n",
              "      <td>-28.649834</td>\n",
              "      <td>1.447095e-21</td>\n",
              "      <td>1.546143e-46</td>\n",
              "      <td>1.410483e-17</td>\n",
              "      <td>9747</td>\n",
              "      <td>30096</td>\n",
              "      <td>0</td>\n",
              "      <td>0.001085</td>\n",
              "      <td>1.276981e-10</td>\n",
              "      <td>1.582409e-21</td>\n",
              "      <td>1.420295e+09</td>\n",
              "      <td>5.101125e-19</td>\n",
              "      <td>341</td>\n",
              "      <td>1.445324e-21</td>\n",
              "      <td>2.693765e-47</td>\n",
              "      <td>9406</td>\n",
              "      <td>104.812668</td>\n",
              "      <td>0.0</td>\n",
              "      <td>114.613445</td>\n",
              "      <td>1.420295e+09</td>\n",
              "      <td>12806.147054</td>\n",
              "      <td>0.0</td>\n",
              "      <td>14003.617714</td>\n",
              "      <td>1.420295e+09</td>\n",
              "      <td>False</td>\n",
              "      <td>Raw FFT</td>\n",
              "      <td></td>\n",
              "    </tr>\n",
              "    <tr>\n",
              "      <th>2018-09-02 00:07:01+00:00</th>\n",
              "      <td>15.834444</td>\n",
              "      <td>-28.649834</td>\n",
              "      <td>1.443747e-21</td>\n",
              "      <td>1.506132e-46</td>\n",
              "      <td>1.407364e-17</td>\n",
              "      <td>9748</td>\n",
              "      <td>30112</td>\n",
              "      <td>0</td>\n",
              "      <td>0.001083</td>\n",
              "      <td>1.287847e-10</td>\n",
              "      <td>1.574050e-21</td>\n",
              "      <td>1.420298e+09</td>\n",
              "      <td>5.453698e-19</td>\n",
              "      <td>366</td>\n",
              "      <td>1.441939e-21</td>\n",
              "      <td>2.428543e-47</td>\n",
              "      <td>9382</td>\n",
              "      <td>104.570175</td>\n",
              "      <td>0.0</td>\n",
              "      <td>114.007987</td>\n",
              "      <td>1.420298e+09</td>\n",
              "      <td>12776.518701</td>\n",
              "      <td>0.0</td>\n",
              "      <td>13929.641493</td>\n",
              "      <td>1.420298e+09</td>\n",
              "      <td>False</td>\n",
              "      <td>Raw FFT</td>\n",
              "      <td></td>\n",
              "    </tr>\n",
              "    <tr>\n",
              "      <th>2018-09-02 00:20:12+00:00</th>\n",
              "      <td>16.054768</td>\n",
              "      <td>-28.649834</td>\n",
              "      <td>1.447998e-21</td>\n",
              "      <td>1.590077e-46</td>\n",
              "      <td>1.410929e-17</td>\n",
              "      <td>9744</td>\n",
              "      <td>30096</td>\n",
              "      <td>0</td>\n",
              "      <td>0.001086</td>\n",
              "      <td>1.267831e-10</td>\n",
              "      <td>1.580165e-21</td>\n",
              "      <td>1.420300e+09</td>\n",
              "      <td>5.481124e-19</td>\n",
              "      <td>366</td>\n",
              "      <td>1.446063e-21</td>\n",
              "      <td>2.559684e-47</td>\n",
              "      <td>9378</td>\n",
              "      <td>104.878067</td>\n",
              "      <td>0.0</td>\n",
              "      <td>114.450931</td>\n",
              "      <td>1.420300e+09</td>\n",
              "      <td>12814.136638</td>\n",
              "      <td>0.0</td>\n",
              "      <td>13983.761138</td>\n",
              "      <td>1.420300e+09</td>\n",
              "      <td>False</td>\n",
              "      <td>Raw FFT</td>\n",
              "      <td></td>\n",
              "    </tr>\n",
              "    <tr>\n",
              "      <th>2018-09-02 00:21:13+00:00</th>\n",
              "      <td>16.071758</td>\n",
              "      <td>-28.649834</td>\n",
              "      <td>1.450123e-21</td>\n",
              "      <td>1.640670e-46</td>\n",
              "      <td>1.413434e-17</td>\n",
              "      <td>9747</td>\n",
              "      <td>30128</td>\n",
              "      <td>0</td>\n",
              "      <td>0.001087</td>\n",
              "      <td>1.280948e-10</td>\n",
              "      <td>1.578231e-21</td>\n",
              "      <td>1.420300e+09</td>\n",
              "      <td>5.581082e-19</td>\n",
              "      <td>372</td>\n",
              "      <td>1.448132e-21</td>\n",
              "      <td>2.424441e-47</td>\n",
              "      <td>9375</td>\n",
              "      <td>105.031982</td>\n",
              "      <td>0.0</td>\n",
              "      <td>114.310825</td>\n",
              "      <td>1.420300e+09</td>\n",
              "      <td>12832.941819</td>\n",
              "      <td>0.0</td>\n",
              "      <td>13966.643487</td>\n",
              "      <td>1.420300e+09</td>\n",
              "      <td>False</td>\n",
              "      <td>Raw FFT</td>\n",
              "      <td></td>\n",
              "    </tr>\n",
              "  </tbody>\n",
              "</table>\n",
              "</div>"
            ],
            "text/plain": [
              "                                  ra        dec  ...  processing  user\n",
              "2018-09-02 00:03:01+00:00  15.767594 -28.649834  ...     Raw FFT      \n",
              "2018-09-02 00:05:01+00:00  15.801020 -28.649834  ...     Raw FFT      \n",
              "2018-09-02 00:07:01+00:00  15.834444 -28.649834  ...     Raw FFT      \n",
              "2018-09-02 00:20:12+00:00  16.054768 -28.649834  ...     Raw FFT      \n",
              "2018-09-02 00:21:13+00:00  16.071758 -28.649834  ...     Raw FFT      \n",
              "\n",
              "[5 rows x 28 columns]"
            ]
          },
          "metadata": {
            "tags": []
          },
          "execution_count": 32
        }
      ]
    },
    {
      "cell_type": "code",
      "metadata": {
        "id": "guTX5mCH-0ei",
        "colab_type": "code",
        "colab": {
          "base_uri": "https://localhost:8080/",
          "height": 34
        },
        "outputId": "10e525c8-e387-489e-bc70-d7e002ac4acd"
      },
      "source": [
        "len(obs_summary)"
      ],
      "execution_count": 33,
      "outputs": [
        {
          "output_type": "execute_result",
          "data": {
            "text/plain": [
              "243"
            ]
          },
          "metadata": {
            "tags": []
          },
          "execution_count": 33
        }
      ]
    },
    {
      "cell_type": "code",
      "metadata": {
        "id": "fpDQERUo-LGx",
        "colab_type": "code",
        "colab": {
          "base_uri": "https://localhost:8080/",
          "height": 347
        },
        "outputId": "fc2e5241-5fb1-4255-c20c-39745b3ba508"
      },
      "source": [
        "plt.plot(obs_summary.index, obs_summary.avetsky)\n",
        "plt.title(f'Drift Scan Summary, Scan Date: {scan_date}')\n",
        "plt.xlabel('Time (UT)')\n",
        "plt.xticks(rotation=90)\n",
        "plt.ylabel('Average Sky Temp (K)')"
      ],
      "execution_count": 34,
      "outputs": [
        {
          "output_type": "execute_result",
          "data": {
            "text/plain": [
              "Text(0, 0.5, 'Average Sky Temp (K)')"
            ]
          },
          "metadata": {
            "tags": []
          },
          "execution_count": 34
        },
        {
          "output_type": "display_data",
          "data": {
            "image/png": "[encoded data removed]",
            "text/plain": [
              "<Figure size 432x288 with 1 Axes>"
            ]
          },
          "metadata": {
            "tags": [],
            "needs_background": "light"
          }
        }
      ]
    },
    {
      "cell_type": "code",
      "metadata": {
        "id": "Jk8rshL1L4-o",
        "colab_type": "code",
        "colab": {
          "base_uri": "https://localhost:8080/",
          "height": 298
        },
        "outputId": "80ac852e-6a02-4470-e64b-656176ae5679"
      },
      "source": [
        "#it's a drift scan so plot by right ascension\n",
        "plt.scatter(obs_summary.ra, obs_summary.avetsky, s=9)\n",
        "plt.title(f'Drift Scan Summary, Scan Date: {scan_date}')\n",
        "plt.xlabel('Right Ascension (deg)')\n",
        "plt.xticks(rotation=90)\n",
        "plt.ylabel('Average Sky Temp (K)')\n",
        "plt.grid()\n",
        "plt.gca().invert_xaxis()"
      ],
      "execution_count": 35,
      "outputs": [
        {
          "output_type": "display_data",
          "data": {
            "image/png": "[encoded data removed]",
            "text/plain": [
              "<Figure size 432x288 with 1 Axes>"
            ]
          },
          "metadata": {
            "tags": [],
            "needs_background": "light"
          }
        }
      ]
    },
    {
      "cell_type": "code",
      "metadata": {
        "id": "Qj_5NUmzAHRY",
        "colab_type": "code",
        "colab": {}
      },
      "source": [
        "#get all the spectral data from the drift scan\n",
        "spectra = lto.getDriftScan('lto_data/'+scan_date)"
      ],
      "execution_count": 36,
      "outputs": []
    },
    {
      "cell_type": "code",
      "metadata": {
        "id": "VoKmaHQZN4ya",
        "colab_type": "code",
        "colab": {
          "base_uri": "https://localhost:8080/",
          "height": 309
        },
        "outputId": "ed46a831-58c5-4254-ab40-6498d3e6d4c3"
      },
      "source": [
        "spectra.head()"
      ],
      "execution_count": 38,
      "outputs": [
        {
          "output_type": "execute_result",
          "data": {
            "text/html": [
              "<div>\n",
              "<style scoped>\n",
              "    .dataframe tbody tr th:only-of-type {\n",
              "        vertical-align: middle;\n",
              "    }\n",
              "\n",
              "    .dataframe tbody tr th {\n",
              "        vertical-align: top;\n",
              "    }\n",
              "\n",
              "    .dataframe thead th {\n",
              "        text-align: right;\n",
              "    }\n",
              "</style>\n",
              "<table border=\"1\" class=\"dataframe\">\n",
              "  <thead>\n",
              "    <tr style=\"text-align: right;\">\n",
              "      <th></th>\n",
              "      <th>ts</th>\n",
              "      <th>ra</th>\n",
              "      <th>dec</th>\n",
              "      <th>dopfreq</th>\n",
              "      <th>rawavepwr</th>\n",
              "      <th>rawvarpwr</th>\n",
              "      <th>calavepwr</th>\n",
              "      <th>flatten</th>\n",
              "      <th>tsky</th>\n",
              "      <th>fluxden</th>\n",
              "      <th>badline</th>\n",
              "      <th>HIline</th>\n",
              "    </tr>\n",
              "  </thead>\n",
              "  <tbody>\n",
              "    <tr>\n",
              "      <th>0</th>\n",
              "      <td>2018-09-02 00:03:01+00:00</td>\n",
              "      <td>15.767594</td>\n",
              "      <td>-28.649834</td>\n",
              "      <td>-5000000.0</td>\n",
              "      <td>0.000870</td>\n",
              "      <td>7.603490e-07</td>\n",
              "      <td>1.057410e-21</td>\n",
              "      <td>0.869181</td>\n",
              "      <td>76.587936</td>\n",
              "      <td>9357.613281</td>\n",
              "      <td>True</td>\n",
              "      <td>False</td>\n",
              "    </tr>\n",
              "    <tr>\n",
              "      <th>1</th>\n",
              "      <td>2018-09-02 00:03:01+00:00</td>\n",
              "      <td>15.767594</td>\n",
              "      <td>-28.649834</td>\n",
              "      <td>-4999389.5</td>\n",
              "      <td>0.000887</td>\n",
              "      <td>7.864655e-07</td>\n",
              "      <td>9.077309e-23</td>\n",
              "      <td>0.869213</td>\n",
              "      <td>6.574670</td>\n",
              "      <td>803.301636</td>\n",
              "      <td>True</td>\n",
              "      <td>False</td>\n",
              "    </tr>\n",
              "    <tr>\n",
              "      <th>2</th>\n",
              "      <td>2018-09-02 00:03:01+00:00</td>\n",
              "      <td>15.767594</td>\n",
              "      <td>-28.649834</td>\n",
              "      <td>-4998779.5</td>\n",
              "      <td>0.000887</td>\n",
              "      <td>7.763921e-07</td>\n",
              "      <td>6.609310e-22</td>\n",
              "      <td>0.869245</td>\n",
              "      <td>47.871052</td>\n",
              "      <td>5848.946777</td>\n",
              "      <td>True</td>\n",
              "      <td>False</td>\n",
              "    </tr>\n",
              "    <tr>\n",
              "      <th>3</th>\n",
              "      <td>2018-09-02 00:03:01+00:00</td>\n",
              "      <td>15.767594</td>\n",
              "      <td>-28.649834</td>\n",
              "      <td>-4998169.0</td>\n",
              "      <td>0.000871</td>\n",
              "      <td>7.660552e-07</td>\n",
              "      <td>8.888164e-22</td>\n",
              "      <td>0.869278</td>\n",
              "      <td>64.376732</td>\n",
              "      <td>7865.631836</td>\n",
              "      <td>True</td>\n",
              "      <td>False</td>\n",
              "    </tr>\n",
              "    <tr>\n",
              "      <th>4</th>\n",
              "      <td>2018-09-02 00:03:01+00:00</td>\n",
              "      <td>15.767594</td>\n",
              "      <td>-28.649834</td>\n",
              "      <td>-4997558.5</td>\n",
              "      <td>0.000885</td>\n",
              "      <td>7.746120e-07</td>\n",
              "      <td>1.064691e-21</td>\n",
              "      <td>0.869310</td>\n",
              "      <td>77.115265</td>\n",
              "      <td>9422.042969</td>\n",
              "      <td>True</td>\n",
              "      <td>False</td>\n",
              "    </tr>\n",
              "  </tbody>\n",
              "</table>\n",
              "</div>"
            ],
            "text/plain": [
              "                         ts         ra        dec  ...      fluxden  badline  HIline\n",
              "0 2018-09-02 00:03:01+00:00  15.767594 -28.649834  ...  9357.613281     True   False\n",
              "1 2018-09-02 00:03:01+00:00  15.767594 -28.649834  ...   803.301636     True   False\n",
              "2 2018-09-02 00:03:01+00:00  15.767594 -28.649834  ...  5848.946777     True   False\n",
              "3 2018-09-02 00:03:01+00:00  15.767594 -28.649834  ...  7865.631836     True   False\n",
              "4 2018-09-02 00:03:01+00:00  15.767594 -28.649834  ...  9422.042969     True   False\n",
              "\n",
              "[5 rows x 12 columns]"
            ]
          },
          "metadata": {
            "tags": []
          },
          "execution_count": 38
        }
      ]
    },
    {
      "cell_type": "markdown",
      "metadata": {
        "id": "PXVHVsfNmIGy",
        "colab_type": "text"
      },
      "source": [
        "Yeilds a rather large data frame:"
      ]
    },
    {
      "cell_type": "code",
      "metadata": {
        "id": "ZysVde6HaPYd",
        "colab_type": "code",
        "colab": {
          "base_uri": "https://localhost:8080/",
          "height": 34
        },
        "outputId": "183113d1-35e0-412c-b006-249eeefa2c76"
      },
      "source": [
        "len(spectra)"
      ],
      "execution_count": 39,
      "outputs": [
        {
          "output_type": "execute_result",
          "data": {
            "text/plain": [
              "3981555"
            ]
          },
          "metadata": {
            "tags": []
          },
          "execution_count": 39
        }
      ]
    },
    {
      "cell_type": "markdown",
      "metadata": {
        "id": "Xi8nU9z343fl",
        "colab_type": "text"
      },
      "source": [
        "## Construct a Spectrogram"
      ]
    },
    {
      "cell_type": "markdown",
      "metadata": {
        "id": "48wx1rwQcebb",
        "colab_type": "text"
      },
      "source": [
        "The `spectra` data frame from above can be unweildy with 23 million rows, so the `getDriftScan` method provides a `dfclip` parameter to eliminate data at the far ends of the spectrum. If we clip the spectrum, the production of the spectrogram proceeds much faster, because the resulting data set is so much smaller."
      ]
    },
    {
      "cell_type": "code",
      "metadata": {
        "id": "5b7nDYcKdQuA",
        "colab_type": "code",
        "colab": {
          "base_uri": "https://localhost:8080/",
          "height": 34
        },
        "outputId": "ad1ed349-3258-45be-b2ee-6409f42c1c56"
      },
      "source": [
        "#clip to -100 kHz to 100 kHz\n",
        "spectra = lto.getDriftScan('lto_data/2018_08_30', dfclip=(-0.1e6, 0.1e6))\n",
        "len(spectra)"
      ],
      "execution_count": 40,
      "outputs": [
        {
          "output_type": "execute_result",
          "data": {
            "text/plain": [
              "462705"
            ]
          },
          "metadata": {
            "tags": []
          },
          "execution_count": 40
        }
      ]
    },
    {
      "cell_type": "code",
      "metadata": {
        "id": "Wi234ZkNfeHu",
        "colab_type": "code",
        "colab": {}
      },
      "source": [
        "#helper routine to beautify the time formating:\n",
        "import matplotlib.dates as mdates\n",
        "fmt = mdates.DateFormatter('%H:%M')\n"
      ],
      "execution_count": 41,
      "outputs": []
    },
    {
      "cell_type": "code",
      "metadata": {
        "id": "kkSuY5nFN9DE",
        "colab_type": "code",
        "colab": {}
      },
      "source": [
        "#first, get the y axis (dopler freq):\n",
        "dopfreqs = spectra.dopfreq.unique()\n",
        "\n",
        "# next, get the x-axis which is the time of the observations;\n",
        "obs_times = spectra.ts.unique()\n",
        "\n",
        "#get the sky temp, which we'll plot as a 2D array and transposed;\n",
        "skytemp = np.array(spectra.tsky).reshape(len(obs_times), len(dopfreqs)).T"
      ],
      "execution_count": 42,
      "outputs": []
    },
    {
      "cell_type": "code",
      "metadata": {
        "id": "70J4Lv0g6FKS",
        "colab_type": "code",
        "colab": {
          "base_uri": "https://localhost:8080/",
          "height": 588
        },
        "outputId": "313f4ade-ba60-4498-8226-3e372eee8116"
      },
      "source": [
        "fig = plt.figure(figsize=(12,9))\n",
        "ax = fig.add_subplot()\n",
        "\n",
        "pcm = ax.pcolormesh( obs_times,  dopfreqs, skytemp)\n",
        "\n",
        "fig.colorbar(pcm, label='Sky Temp (K)')\n",
        "\n",
        "plt.xlabel('Time (UT)')\n",
        "plt.gca().xaxis.set_major_formatter(fmt)\n",
        "plt.xticks(rotation=90)\n",
        "plt.ylabel('Dopler Shift (kHz)')\n",
        "plt.title(f'LTO Driftscan of {scan_date}',fontdict={'fontsize':16, 'fontweight':'bold'})\n",
        "plt.grid()"
      ],
      "execution_count": 43,
      "outputs": [
        {
          "output_type": "display_data",
          "data": {
            "image/png": "[encoded data removed]",
            "text/plain": [
              "<Figure size 864x648 with 2 Axes>"
            ]
          },
          "metadata": {
            "tags": [],
            "needs_background": "light"
          }
        }
      ]
    }
  ]
}